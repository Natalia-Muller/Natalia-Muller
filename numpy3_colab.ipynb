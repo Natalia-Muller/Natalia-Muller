{
  "cells": [
    {
      "cell_type": "markdown",
      "metadata": {
        "id": "view-in-github",
        "colab_type": "text"
      },
      "source": [
        "<a href=\"https://colab.research.google.com/github/Natalia-Muller/Natalia-Muller/blob/main/numpy3_colab.ipynb\" target=\"_parent\"><img src=\"https://colab.research.google.com/assets/colab-badge.svg\" alt=\"Open In Colab\"/></a>"
      ]
    },
    {
      "cell_type": "markdown",
      "id": "120c13a0",
      "metadata": {
        "id": "120c13a0"
      },
      "source": [
        "<center><h1> <center><h1>\n",
        "<center><h1>Aprendendo Matemática com Python<center><h1>\n",
        "<center><h2>Curso de Extensão</h2></center>\n",
        "<center><h3>CCT - UDESC</h3></center>\n",
        "<center><h2>NumPy: Vetores, Matrizes e Sistemas Lineares</h2></center>\n",
        "<center><h4>Fernando Deeke Sasse e Sidnei Costa Furtado</h4></center>"
      ]
    },
    {
      "cell_type": "markdown",
      "source": [
        "## Conteúdo\n",
        "\n",
        "- 1. Introdução\n",
        "- 2. Revisão da álgebra vetorial\n",
        "- 3. Normas de vetores discretos gerais\n",
        "- 4. Matrizes no NumPy\n",
        "- 5. Fatiamento de matrizes\n",
        "- 6. Matrizes especiais\n",
        "- 7. Definindo matrizes por uma lei de formação\n",
        "- 8. Operações com matrizes\n",
        "- 9. Normas matriciais\n",
        "- 10. Número de condicionamento de uma matriz\n",
        "- 11. Autovalores e autovetores de uma matriz\n",
        "- 12. Sistemas Lineares\n",
        "- 13. Exercícios"
      ],
      "metadata": {
        "id": "brBgFdJOc74a"
      },
      "id": "brBgFdJOc74a"
    },
    {
      "cell_type": "markdown",
      "id": "8ecdb50f",
      "metadata": {
        "id": "8ecdb50f"
      },
      "source": [
        "### 1. Introdução\n",
        "\n",
        "Veremos neste notebook como realizar operações algébricas envolvendo vetores e matrizes."
      ]
    },
    {
      "cell_type": "markdown",
      "id": "375f99ad",
      "metadata": {
        "id": "375f99ad"
      },
      "source": [
        "### 2. Operações com 3-vetores espaciais\n",
        "\n",
        "As operações mais básicas entre vetores espaciais, com aplicações em geometria analítica e mecânica são aquelas envolvendo o produto escalar e vetorial entre vetores.  Mostraremos a seguir como essas operações podem ser feitas em Numpy.\n",
        "\n",
        "Consideremos os vetores $\\mathbf{u}=(3,1,2)$ e $\\mathbf{v}=(-1,2,-1)$. O produto escalar $\\mathbf{u}\\cdot \\mathbf{v}$ pode ser feito da seguinte forma:"
      ]
    },
    {
      "cell_type": "code",
      "execution_count": 2,
      "id": "8ed64d87",
      "metadata": {
        "id": "8ed64d87",
        "colab": {
          "base_uri": "https://localhost:8080/"
        },
        "outputId": "a2e4bd7d-a34a-4c55-ffec-7ff75e283a96"
      },
      "outputs": [
        {
          "output_type": "execute_result",
          "data": {
            "text/plain": [
              "-3"
            ]
          },
          "metadata": {},
          "execution_count": 2
        }
      ],
      "source": [
        "import numpy as np\n",
        "u = np.array([3,1,2])\n",
        "v = np.array([-1,2,-1])\n",
        "np.dot(u,v)"
      ]
    },
    {
      "cell_type": "markdown",
      "id": "73efd02c",
      "metadata": {
        "id": "73efd02c"
      },
      "source": [
        "Por outro lado, o produto vetorial $\\mathbf{u} \\times \\mathbf{v}$ é dado por"
      ]
    },
    {
      "cell_type": "code",
      "execution_count": null,
      "id": "bd24f0dc",
      "metadata": {
        "id": "bd24f0dc",
        "colab": {
          "base_uri": "https://localhost:8080/"
        },
        "outputId": "e7595b3b-61a8-4f3e-9220-d1311ae7d78e"
      },
      "outputs": [
        {
          "output_type": "execute_result",
          "data": {
            "text/plain": [
              "array([-5,  1,  7])"
            ]
          },
          "metadata": {},
          "execution_count": 3
        }
      ],
      "source": [
        "np.cross(u,v)"
      ]
    },
    {
      "cell_type": "markdown",
      "id": "5e878035",
      "metadata": {
        "id": "5e878035"
      },
      "source": [
        "Definiremos normas de um vetor de modo geral mais adiante. Por hora utiizaremos  a norma euclidiana de um vetor  $\\mathbf{u}=(u_1,u_2, u_3)$ da forma usual,\n",
        "\n",
        "$$\n",
        "|\\mathbf{u}|= \\sqrt{\\Sigma_{i=1}^3|u_i|^2}\\,,\n",
        "$$\n",
        "\n",
        "que é simplesmente o comprimento espacial do vetor.\n",
        "\n",
        "No Python:"
      ]
    },
    {
      "cell_type": "code",
      "execution_count": null,
      "id": "7fe504ae",
      "metadata": {
        "id": "7fe504ae",
        "colab": {
          "base_uri": "https://localhost:8080/"
        },
        "outputId": "187a6578-f1b3-445d-856a-2d03a0d235b5"
      },
      "outputs": [
        {
          "output_type": "execute_result",
          "data": {
            "text/plain": [
              "8.660254037844387"
            ]
          },
          "metadata": {},
          "execution_count": 8
        }
      ],
      "source": [
        "u = np.array([-5,1,7])\n",
        "Ne = np.linalg.norm(u)\n",
        "Ne"
      ]
    },
    {
      "cell_type": "code",
      "source": [
        "A = np.array([[1,2,3],[4,7,2],[3,7,8]])\n",
        "np.linalg.cond(A, 1)"
      ],
      "metadata": {
        "id": "ncCWgqp7kikp",
        "outputId": "eeb5c3fb-ab08-4e54-88de-9fb5d3816034",
        "colab": {
          "base_uri": "https://localhost:8080/"
        }
      },
      "id": "ncCWgqp7kikp",
      "execution_count": 3,
      "outputs": [
        {
          "output_type": "execute_result",
          "data": {
            "text/plain": [
              "109.09090909090907"
            ]
          },
          "metadata": {},
          "execution_count": 3
        }
      ]
    },
    {
      "cell_type": "markdown",
      "id": "5a889053",
      "metadata": {
        "id": "5a889053"
      },
      "source": [
        "De fato,"
      ]
    },
    {
      "cell_type": "code",
      "execution_count": null,
      "id": "500fd19d",
      "metadata": {
        "id": "500fd19d",
        "colab": {
          "base_uri": "https://localhost:8080/"
        },
        "outputId": "318487b6-fb65-44e9-cdca-3b2a7521e3e3"
      },
      "outputs": [
        {
          "output_type": "execute_result",
          "data": {
            "text/plain": [
              "8.660254037844387"
            ]
          },
          "metadata": {},
          "execution_count": 9
        }
      ],
      "source": [
        "np.sqrt(np.sum(u**2))"
      ]
    },
    {
      "cell_type": "markdown",
      "id": "11d097c3",
      "metadata": {
        "id": "11d097c3"
      },
      "source": [
        "Um cálculo frequentemente utilizado em dinâmica de partículas é o da projeção de um vetor na direção de outro. Sejam os vetores $\\mathbf{u}=(1,4,-1)$ e $\\mathbf{v}=(1,3,-5)$.\n",
        "\n",
        "(i) Calculemos a projeção do vetor $\\mathbf{u}$ na direção de $\\mathbf{v}$.\n",
        "\n",
        "Devemos calcular a expressão\n",
        "$$\n",
        "\\mathbf{u}_{\\mathbf{v}}=\\left(\\frac{\\mathbf{u}\\cdot\\mathbf{v}}{|\\mathbf{v}|^2}\\right)\\mathbf{v}\n",
        "$$\n",
        "\n",
        "No Python,"
      ]
    },
    {
      "cell_type": "code",
      "execution_count": null,
      "id": "c9e2f415",
      "metadata": {
        "id": "c9e2f415",
        "colab": {
          "base_uri": "https://localhost:8080/"
        },
        "outputId": "8ee28763-199f-4108-daf0-4c0278b8ee89"
      },
      "outputs": [
        {
          "output_type": "execute_result",
          "data": {
            "text/plain": [
              "array([ 0.51428571,  1.54285714, -2.57142857])"
            ]
          },
          "metadata": {},
          "execution_count": 10
        }
      ],
      "source": [
        "u=np.array([1,4,-1])\n",
        "v=np.array([1,3,-5])\n",
        "uv=np.dot(u,v)/np.linalg.norm(v)**2*v\n",
        "uv"
      ]
    },
    {
      "cell_type": "markdown",
      "id": "aa2a148d",
      "metadata": {
        "id": "aa2a148d"
      },
      "source": [
        "Calculemos o ângulo $\\theta$ entre $\\mathbf{u}$ e $\\mathbf{v}$.\n",
        "\n",
        "Para isso podemos usar a relação\n",
        "\n",
        "$$\n",
        "\\mathbf{u}\\cdot \\mathbf{v}=|\\mathbf{u}||\\mathbf{v}|\\cos\\theta\\,.\n",
        "$$\n",
        "Em Python,"
      ]
    },
    {
      "cell_type": "code",
      "execution_count": null,
      "id": "86a4d0cb",
      "metadata": {
        "id": "86a4d0cb",
        "colab": {
          "base_uri": "https://localhost:8080/"
        },
        "outputId": "551f7ffe-132d-422f-ea03-9485eb012c3f"
      },
      "outputs": [
        {
          "output_type": "execute_result",
          "data": {
            "text/plain": [
              "0.771110504762802"
            ]
          },
          "metadata": {},
          "execution_count": 12
        }
      ],
      "source": [
        "c = np.dot(u,v)/(np.linalg.norm(u)*np.linalg.norm(v))\n",
        "c\n",
        "theta = np.arccos(c)\n",
        "theta"
      ]
    },
    {
      "cell_type": "markdown",
      "id": "7df20463",
      "metadata": {
        "id": "7df20463"
      },
      "source": [
        "Em graus:"
      ]
    },
    {
      "cell_type": "code",
      "execution_count": null,
      "id": "a6836def",
      "metadata": {
        "id": "a6836def",
        "colab": {
          "base_uri": "https://localhost:8080/"
        },
        "outputId": "89490d9f-ae4f-4b9a-fda2-8110a08bee03"
      },
      "outputs": [
        {
          "output_type": "execute_result",
          "data": {
            "text/plain": [
              "44.18137746111112"
            ]
          },
          "metadata": {},
          "execution_count": 13
        }
      ],
      "source": [
        "theta_deg = np.degrees(theta)\n",
        "theta_deg"
      ]
    },
    {
      "cell_type": "markdown",
      "id": "6c4b2c40",
      "metadata": {
        "id": "6c4b2c40"
      },
      "source": [
        "De fato,"
      ]
    },
    {
      "cell_type": "code",
      "execution_count": null,
      "id": "f6fe7ca4",
      "metadata": {
        "id": "f6fe7ca4"
      },
      "outputs": [],
      "source": []
    },
    {
      "cell_type": "markdown",
      "id": "c13e7e35",
      "metadata": {
        "id": "c13e7e35"
      },
      "source": [
        "Um problema típico de geometria analítica consiste em calcular áreas de triângulos no espaço. Determinemos a área do triângulo com vértices $(-2,3,1)$, $(3,2,4)$ e $(2,1,8)$.\n",
        "\n",
        "Devemos lembrar que a área do triângulo $ABC$ pode ser calculada pela fórmula\n",
        "\n",
        "$$\n",
        "A = \\frac{1}{2}|\\mathbf{AB}\\times \\mathbf{AC}|,\n",
        "$$\n",
        "\n",
        "sendo $\\mathbf{AB}$ ($\\mathbf{AC}$) o vetor com origem no ponto $A$ e extremidade no ponto $B$ ($C$). Façamos o cálculo em Python:"
      ]
    },
    {
      "cell_type": "code",
      "execution_count": null,
      "id": "d5405706",
      "metadata": {
        "id": "d5405706"
      },
      "outputs": [],
      "source": [
        "A = np.array([-2,3,1])\n",
        "B = np.array([3,2,4])\n",
        "C = np.array([2,1,8])\n",
        "AB = B-A\n",
        "AC = C-A"
      ]
    },
    {
      "cell_type": "markdown",
      "id": "421f1e8c",
      "metadata": {
        "id": "421f1e8c"
      },
      "source": [
        "A área é então dada por"
      ]
    },
    {
      "cell_type": "code",
      "execution_count": null,
      "id": "27dac3b0",
      "metadata": {
        "id": "27dac3b0",
        "colab": {
          "base_uri": "https://localhost:8080/"
        },
        "outputId": "043961af-8c2b-49ad-b7de-a83ba41dd608"
      },
      "outputs": [
        {
          "output_type": "execute_result",
          "data": {
            "text/plain": [
              "11.895377253370318"
            ]
          },
          "metadata": {},
          "execution_count": 15
        }
      ],
      "source": [
        "Area = np.linalg.norm(np.cross(AB,AC))/2\n",
        "Area"
      ]
    },
    {
      "cell_type": "markdown",
      "id": "b51f1b92",
      "metadata": {
        "id": "b51f1b92"
      },
      "source": [
        "Outro problema que podemos resolver facilmente com os comandos já explicados anteriormente consiste em determinar volumes de tetraedros.\n",
        "\n",
        "\n",
        "Por exemplo, determinemos o volume do tetraedro com vértices $A =(2,3,1)$, $B = (3,-2,4)$, $C = (2,1,8)$ e $D =(-3,1,-2)$.\n",
        "\n",
        "O volume do tetraedro é 1/6 do volume do paralepípedo definido pelos vértices acima. O volume do paralelepípedo é dado pela magnitude do produto triplo do vetores definidos pelos vértices $A$, $B$, $C$ e $D$:\n",
        "\n",
        "$$\n",
        "V_t=\\frac{1}{6}|\\mathbf{AB}\\cdot(\\mathbf{AC}\\times \\mathbf{AD})|\n",
        "$$\n",
        "\n",
        "Em Python temos:"
      ]
    },
    {
      "cell_type": "code",
      "execution_count": null,
      "id": "386da049",
      "metadata": {
        "id": "386da049"
      },
      "outputs": [],
      "source": [
        "A = np.array([2,3,1])\n",
        "B = np.array([3,-2,4])\n",
        "C = np.array([2,1,8])\n",
        "D = np.array([-3,1,-2])\n",
        "AB = B-A\n",
        "AC = C-A\n",
        "AD = D-A"
      ]
    },
    {
      "cell_type": "code",
      "source": [
        "Vt = np.linalg.norm(np.dot(AB,np.cross(AC,AD)))/6\n",
        "Vt"
      ],
      "metadata": {
        "colab": {
          "base_uri": "https://localhost:8080/"
        },
        "id": "urSMaHN424eQ",
        "outputId": "b2652f4e-2a05-4717-f533-84336aefcab9"
      },
      "id": "urSMaHN424eQ",
      "execution_count": null,
      "outputs": [
        {
          "output_type": "execute_result",
          "data": {
            "text/plain": [
              "27.5"
            ]
          },
          "metadata": {},
          "execution_count": 17
        }
      ]
    },
    {
      "cell_type": "markdown",
      "id": "7aa3f12c",
      "metadata": {
        "id": "7aa3f12c"
      },
      "source": [
        "### 3. Normas de vetores discretos gerais"
      ]
    },
    {
      "cell_type": "markdown",
      "id": "8815e294",
      "metadata": {
        "id": "8815e294"
      },
      "source": [
        "Um conceito mais geral de norma vetorial geral é necessário quando tratamos de vetores em espaços de dimensões finitas superiores. As normas vetoriais são funções que atribuem a um\n",
        "vetor um número real não negativo, que pode ser\n",
        "interpretado como o  \"tamanho\"\n",
        "do vetor em diferentes sentidos. Diversos teoremas em álgebra linear são formulados para normas gerais. A definição é dada a seguir.\n",
        "\n",
        "\n",
        "Dado um vetor de componentes reais ou complexas $\\mathbf{v} = (v_1, v_2, \\dots, v_n)$, uma norma $\\|\\mathbf{v}\\|$ deve satisfazer:\n",
        "\n",
        "\n",
        "1. **Positividade:**\n",
        "\n",
        "   $$\n",
        "   \\|\\mathbf{v}\\| \\geq 0\\,,\n",
        "   $$\n",
        "  \n",
        "\n",
        "2. **Definitividade:**\n",
        "\n",
        "   $$\n",
        "   \\|\\mathbf{v}\\| = 0 \\quad \\iff \\quad \\mathbf{v} = \\mathbf{0}\\,,\n",
        "   $$\n",
        "   \n",
        "\n",
        "3. **Homogeneidade (ou linearidade em relação ao escalar):**\n",
        "\n",
        "   $$\n",
        "   \\|\\alpha \\mathbf{v}\\| = |\\alpha| \\|\\mathbf{v}\\| \\quad \\text{para qualquer escalar} \\quad \\alpha \\in \\mathbb{R} \\text{ ou } \\mathbb{C}\\,,\n",
        "   $$\n",
        "   \n",
        "\n",
        "4. **Desigualdade triangular:**\n",
        "   $$\n",
        "   \\|\\mathbf{u} + \\mathbf{v}\\| \\leq \\|\\mathbf{u}\\| + \\|\\mathbf{v}\\|\\,.\n",
        "   $$\n",
        "   \n",
        "\n",
        "\n",
        "As normas vetoriais mais comuns são:\n",
        "\n",
        "1. **Norma $ L_1 $** (Norma da soma absoluta):\n",
        "\n",
        "   $$\n",
        "   \\| \\mathbf{v} \\|_1 = \\sum_{i=1}^{n} |v_i|\\,.\n",
        "   $$\n",
        "\n",
        "2. **Norma $ L_2 $** (Norma euclidiana):\n",
        "\n",
        "   $$\n",
        "   \\| \\mathbf{v} \\|_2 = \\sqrt{\\sum_{i=1}^{n} |v_i|^2}\\,.\n",
        "   $$\n",
        "\n",
        "3. **Norma $ L_\\infty $** (Norma da máxima componente):\n",
        "\n",
        "   $$\n",
        "   \\| \\mathbf{v} \\|_\\infty = \\max \\left( |v_1|, |v_2|, \\dots, |v_n| \\right)\\,.\n",
        "   $$\n",
        "\n",
        "Por exemplo, a norma $ L_\\infty $ como critério de parada em processos iterativos, devido ao seu baixo custo computacional, principamente quando $n$ é muito grande.\n",
        "\n",
        "\n",
        "Vejamos um exemplo em Python que envolve o cálculo das diferentes normas do vetor\n",
        "\n",
        "$$\n",
        "\\mathbf{v} = (1,-4,2,9,-2)\\,.\n",
        "$$\n",
        "\n"
      ]
    },
    {
      "cell_type": "code",
      "execution_count": null,
      "id": "9f2d7722",
      "metadata": {
        "id": "9f2d7722"
      },
      "outputs": [],
      "source": [
        "v = np.array([1,-4,2,9,-2])"
      ]
    },
    {
      "cell_type": "code",
      "execution_count": null,
      "id": "b0baf6cd",
      "metadata": {
        "id": "b0baf6cd",
        "colab": {
          "base_uri": "https://localhost:8080/"
        },
        "outputId": "0655371b-ed48-450c-db3f-c9ad934cff52"
      },
      "outputs": [
        {
          "output_type": "execute_result",
          "data": {
            "text/plain": [
              "18.0"
            ]
          },
          "metadata": {},
          "execution_count": 19
        }
      ],
      "source": [
        "#Norma L1\n",
        "np.linalg.norm(v,1)"
      ]
    },
    {
      "cell_type": "code",
      "source": [
        "A = np.array([\n",
        "    [1, 2, 3],\n",
        "    [4, 5, 6],\n",
        "    [7, 8, 9]\n",
        "])"
      ],
      "metadata": {
        "id": "OymdzPIuoAWT"
      },
      "id": "OymdzPIuoAWT",
      "execution_count": 4,
      "outputs": []
    },
    {
      "cell_type": "code",
      "source": [
        "np.linalg.norm(A,1)"
      ],
      "metadata": {
        "id": "hH-XU5xYoIZC",
        "outputId": "2b537515-984e-490b-b03f-a232cb80f906",
        "colab": {
          "base_uri": "https://localhost:8080/"
        }
      },
      "id": "hH-XU5xYoIZC",
      "execution_count": 5,
      "outputs": [
        {
          "output_type": "execute_result",
          "data": {
            "text/plain": [
              "18.0"
            ]
          },
          "metadata": {},
          "execution_count": 5
        }
      ]
    },
    {
      "cell_type": "code",
      "execution_count": null,
      "id": "30ad3edb",
      "metadata": {
        "id": "30ad3edb"
      },
      "outputs": [],
      "source": [
        "# Norma L2\n"
      ]
    },
    {
      "cell_type": "code",
      "execution_count": null,
      "id": "ab4f15ed",
      "metadata": {
        "id": "ab4f15ed",
        "colab": {
          "base_uri": "https://localhost:8080/"
        },
        "outputId": "639d8c78-a4b8-448d-a957-aab3eeb42c44"
      },
      "outputs": [
        {
          "output_type": "execute_result",
          "data": {
            "text/plain": [
              "10.295630140987"
            ]
          },
          "metadata": {},
          "execution_count": 23
        }
      ],
      "source": [
        "np.linalg.norm(v,2)"
      ]
    },
    {
      "cell_type": "code",
      "source": [
        "np.linalg.norm(A,2)"
      ],
      "metadata": {
        "id": "zrcRjtAhoafa",
        "outputId": "7506dca7-7489-4372-da0e-e436add2cdab",
        "colab": {
          "base_uri": "https://localhost:8080/"
        }
      },
      "id": "zrcRjtAhoafa",
      "execution_count": 6,
      "outputs": [
        {
          "output_type": "execute_result",
          "data": {
            "text/plain": [
              "16.84810335261421"
            ]
          },
          "metadata": {},
          "execution_count": 6
        }
      ]
    },
    {
      "cell_type": "code",
      "source": [
        "np.linalg.norm(v,np.inf)"
      ],
      "metadata": {
        "colab": {
          "base_uri": "https://localhost:8080/"
        },
        "id": "0-ntxhFQ5dj2",
        "outputId": "89232b1d-e009-48ce-a51c-3d52d5a755d8"
      },
      "id": "0-ntxhFQ5dj2",
      "execution_count": null,
      "outputs": [
        {
          "output_type": "execute_result",
          "data": {
            "text/plain": [
              "9.0"
            ]
          },
          "metadata": {},
          "execution_count": 24
        }
      ]
    },
    {
      "cell_type": "markdown",
      "id": "837c07b0",
      "metadata": {
        "id": "837c07b0"
      },
      "source": [
        "### 4. Matrizes no NumPy"
      ]
    },
    {
      "cell_type": "markdown",
      "id": "38c85a33",
      "metadata": {
        "id": "38c85a33"
      },
      "source": [
        "Matrizes são arrays 2-dimensionais. Por exemplo, seja a matriz $3 \\times 4$:\n",
        "\n",
        "$$\n",
        "M=\\begin{bmatrix}\n",
        "-1& 5 & 7 & 4\\\\\n",
        "2 & 3 & 1 & 7\\\\\n",
        "8 & 9 & 6 & 3\n",
        "\\end{bmatrix}\n",
        "$$\n",
        "\n",
        "Em Python,"
      ]
    },
    {
      "cell_type": "code",
      "execution_count": null,
      "id": "f73f65fb",
      "metadata": {
        "id": "f73f65fb",
        "colab": {
          "base_uri": "https://localhost:8080/"
        },
        "outputId": "8165d60f-0a8a-44e5-9bd1-74d9002440c1"
      },
      "outputs": [
        {
          "output_type": "execute_result",
          "data": {
            "text/plain": [
              "array([[-1,  5,  7,  4],\n",
              "       [ 2,  3,  1,  7],\n",
              "       [ 8,  9,  6,  3]])"
            ]
          },
          "metadata": {},
          "execution_count": 25
        }
      ],
      "source": [
        "M = np.array([[-1,5,7,4],[2,3,1,7],[8,9,6,3]])\n",
        "M"
      ]
    },
    {
      "cell_type": "markdown",
      "id": "08035e4b",
      "metadata": {
        "id": "08035e4b"
      },
      "source": [
        "A dimensão de $M$ é dada por"
      ]
    },
    {
      "cell_type": "code",
      "execution_count": null,
      "id": "01c39622",
      "metadata": {
        "id": "01c39622",
        "colab": {
          "base_uri": "https://localhost:8080/"
        },
        "outputId": "3708023e-8dbb-4391-8792-940dfad48e0a"
      },
      "outputs": [
        {
          "output_type": "execute_result",
          "data": {
            "text/plain": [
              "2"
            ]
          },
          "metadata": {},
          "execution_count": 27
        }
      ],
      "source": [
        "M.ndim"
      ]
    },
    {
      "cell_type": "markdown",
      "id": "040eff06",
      "metadata": {
        "id": "040eff06"
      },
      "source": [
        "Sua forma é:"
      ]
    },
    {
      "cell_type": "code",
      "execution_count": null,
      "id": "89cf706f",
      "metadata": {
        "id": "89cf706f",
        "colab": {
          "base_uri": "https://localhost:8080/"
        },
        "outputId": "cf4824ba-b7e0-463b-f3bc-73810437ab4a"
      },
      "outputs": [
        {
          "output_type": "execute_result",
          "data": {
            "text/plain": [
              "(3, 4)"
            ]
          },
          "metadata": {},
          "execution_count": 28
        }
      ],
      "source": [
        "M.shape"
      ]
    },
    {
      "cell_type": "markdown",
      "id": "e04db1b7",
      "metadata": {
        "id": "e04db1b7"
      },
      "source": [
        "O número total de elementos é dado por"
      ]
    },
    {
      "cell_type": "code",
      "execution_count": null,
      "id": "e49d5923",
      "metadata": {
        "id": "e49d5923",
        "colab": {
          "base_uri": "https://localhost:8080/"
        },
        "outputId": "c2205bfd-95a5-472a-f6a4-3e593c9cf186"
      },
      "outputs": [
        {
          "output_type": "execute_result",
          "data": {
            "text/plain": [
              "12"
            ]
          },
          "metadata": {},
          "execution_count": 29
        }
      ],
      "source": [
        "M.size"
      ]
    },
    {
      "cell_type": "markdown",
      "id": "bc4cf2cb",
      "metadata": {
        "id": "bc4cf2cb"
      },
      "source": [
        "### 4. Fatiamento de matrizes"
      ]
    },
    {
      "cell_type": "markdown",
      "id": "0994306a",
      "metadata": {
        "id": "0994306a"
      },
      "source": [
        "Podemos selecionar componentes de $M$ da forma usual. Por exemplo, o elemento da primeira linha e segunda coluna é dado por"
      ]
    },
    {
      "cell_type": "code",
      "execution_count": null,
      "id": "3841424a",
      "metadata": {
        "id": "3841424a",
        "colab": {
          "base_uri": "https://localhost:8080/"
        },
        "outputId": "96893e39-6b36-4353-8199-0062eb266431"
      },
      "outputs": [
        {
          "output_type": "execute_result",
          "data": {
            "text/plain": [
              "5"
            ]
          },
          "metadata": {},
          "execution_count": 30
        }
      ],
      "source": [
        "M[0,1]"
      ]
    },
    {
      "cell_type": "markdown",
      "id": "1403e91b",
      "metadata": {
        "id": "1403e91b"
      },
      "source": [
        "Selecionemos a primeira coluna de $M$ para gerar um array 1D:"
      ]
    },
    {
      "cell_type": "code",
      "execution_count": null,
      "id": "cb248ab5",
      "metadata": {
        "id": "cb248ab5",
        "colab": {
          "base_uri": "https://localhost:8080/"
        },
        "outputId": "3d8cd45f-177f-4fb5-b9dd-f56d2df1e4b8"
      },
      "outputs": [
        {
          "output_type": "execute_result",
          "data": {
            "text/plain": [
              "array([-1,  2,  8])"
            ]
          },
          "metadata": {},
          "execution_count": 31
        }
      ],
      "source": [
        "col1 = M[:,0]\n",
        "col1"
      ]
    },
    {
      "cell_type": "markdown",
      "id": "6edb8143",
      "metadata": {
        "id": "6edb8143"
      },
      "source": [
        "Podemos forma submatrizes. Por exemplo, selecionemos a submatriz\n",
        "\n",
        "$$\n",
        "\\begin{bmatrix}\n",
        " 1 & 7\\\\\n",
        "6 & 3\n",
        "\\end{bmatrix}\n",
        "$$\n"
      ]
    },
    {
      "cell_type": "code",
      "execution_count": null,
      "id": "bad79a8c",
      "metadata": {
        "id": "bad79a8c",
        "colab": {
          "base_uri": "https://localhost:8080/"
        },
        "outputId": "4b070cf3-6b0c-4f84-9814-1549600fb03f"
      },
      "outputs": [
        {
          "output_type": "execute_result",
          "data": {
            "text/plain": [
              "array([[1, 7],\n",
              "       [6, 3]])"
            ]
          },
          "metadata": {},
          "execution_count": 35
        }
      ],
      "source": [
        "M[1:3,2:4]"
      ]
    },
    {
      "cell_type": "code",
      "execution_count": null,
      "id": "4b86566f",
      "metadata": {
        "id": "4b86566f"
      },
      "outputs": [],
      "source": []
    },
    {
      "cell_type": "code",
      "execution_count": null,
      "id": "cdcfa547",
      "metadata": {
        "id": "cdcfa547"
      },
      "outputs": [],
      "source": []
    },
    {
      "cell_type": "markdown",
      "id": "38c9c37d",
      "metadata": {
        "id": "38c9c37d"
      },
      "source": [
        "### 5. Matrizes especiais"
      ]
    },
    {
      "cell_type": "markdown",
      "id": "800a8f8d",
      "metadata": {
        "id": "800a8f8d"
      },
      "source": [
        "Matrizes especiais estão pré-definidas. Por exemplo"
      ]
    },
    {
      "cell_type": "code",
      "execution_count": null,
      "id": "a5daca25",
      "metadata": {
        "id": "a5daca25",
        "colab": {
          "base_uri": "https://localhost:8080/"
        },
        "outputId": "50528918-7535-4318-ded7-1233a802cf77"
      },
      "outputs": [
        {
          "output_type": "execute_result",
          "data": {
            "text/plain": [
              "array([[1.2, 0. , 0. , 0. ],\n",
              "       [0. , 1.2, 0. , 0. ],\n",
              "       [0. , 0. , 1.2, 0. ],\n",
              "       [0. , 0. , 0. , 1.2]])"
            ]
          },
          "metadata": {},
          "execution_count": 39
        }
      ],
      "source": [
        "I4 = np.eye(4,dtype=np.int64)\n",
        "I4*1.2"
      ]
    },
    {
      "cell_type": "code",
      "execution_count": null,
      "id": "ad11c620",
      "metadata": {
        "id": "ad11c620",
        "outputId": "44347262-4abb-4087-ffed-214ff5183145",
        "colab": {
          "base_uri": "https://localhost:8080/"
        }
      },
      "outputs": [
        {
          "output_type": "execute_result",
          "data": {
            "text/plain": [
              "array([[1., 1., 1., 1.],\n",
              "       [1., 1., 1., 1.],\n",
              "       [1., 1., 1., 1.],\n",
              "       [1., 1., 1., 1.]])"
            ]
          },
          "metadata": {},
          "execution_count": 40
        }
      ],
      "source": [
        "B4 = np.ones((4,4))\n",
        "B4"
      ]
    },
    {
      "cell_type": "code",
      "execution_count": null,
      "id": "d72619f8",
      "metadata": {
        "id": "d72619f8",
        "outputId": "ce68561c-c7ed-4dfb-9234-19b9ff90e8c7",
        "colab": {
          "base_uri": "https://localhost:8080/"
        }
      },
      "outputs": [
        {
          "output_type": "execute_result",
          "data": {
            "text/plain": [
              "array([[0., 0., 0.],\n",
              "       [0., 0., 0.],\n",
              "       [0., 0., 0.]])"
            ]
          },
          "metadata": {},
          "execution_count": 41
        }
      ],
      "source": [
        "Z3 = np.zeros((3,3))\n",
        "Z3"
      ]
    },
    {
      "cell_type": "markdown",
      "id": "ca9cb01d",
      "metadata": {
        "id": "ca9cb01d"
      },
      "source": [
        "Matrizes diagonais podem ser definidas da seguinte forma:"
      ]
    },
    {
      "cell_type": "code",
      "execution_count": null,
      "id": "e5e3900d",
      "metadata": {
        "id": "e5e3900d",
        "colab": {
          "base_uri": "https://localhost:8080/"
        },
        "outputId": "3ec20344-d1b0-4f5b-fe4a-9808bfe5b142"
      },
      "outputs": [
        {
          "output_type": "execute_result",
          "data": {
            "text/plain": [
              "array([[1, 0, 0, 0],\n",
              "       [0, 2, 0, 0],\n",
              "       [0, 0, 3, 0],\n",
              "       [0, 0, 0, 4]])"
            ]
          },
          "metadata": {},
          "execution_count": 48
        }
      ],
      "source": [
        "A_diag = np.diag([1,2,3,4])\n",
        "A_diag"
      ]
    },
    {
      "cell_type": "code",
      "source": [
        "np.diag(A_diag)"
      ],
      "metadata": {
        "colab": {
          "base_uri": "https://localhost:8080/"
        },
        "id": "HO95rh6281Bh",
        "outputId": "48bf0372-4e12-43a1-b668-00d0ed9e0ce2"
      },
      "id": "HO95rh6281Bh",
      "execution_count": null,
      "outputs": [
        {
          "output_type": "execute_result",
          "data": {
            "text/plain": [
              "array([1, 2, 3, 4])"
            ]
          },
          "metadata": {},
          "execution_count": 49
        }
      ]
    },
    {
      "cell_type": "markdown",
      "id": "a3bd8d76",
      "metadata": {
        "id": "a3bd8d76"
      },
      "source": [
        "Uma matriz tridiagonal pode ser definida da seguinte forma:"
      ]
    },
    {
      "cell_type": "code",
      "execution_count": null,
      "id": "b6c07787",
      "metadata": {
        "id": "b6c07787",
        "colab": {
          "base_uri": "https://localhost:8080/"
        },
        "outputId": "635a53da-e4c7-4b27-9e41-25d0f2b8bc14"
      },
      "outputs": [
        {
          "output_type": "execute_result",
          "data": {
            "text/plain": [
              "array([[1, 5, 0, 0],\n",
              "       [8, 2, 6, 0],\n",
              "       [0, 9, 3, 7],\n",
              "       [0, 0, 3, 4]])"
            ]
          },
          "metadata": {},
          "execution_count": 51
        }
      ],
      "source": [
        "# Definir as diagonais\n",
        "diagonal_principal = np.array([1, 2, 3, 4])\n",
        "diagonal_superior = np.array([5, 6, 7])\n",
        "diagonal_inferior = np.array([8, 9,3])\n",
        "\n",
        "# Cria matrizes diagonais\n",
        "matriz_principal = np.diag(diagonal_principal)\n",
        "matriz_superior = np.diag(diagonal_superior, k=1)\n",
        "matriz_inferior = np.diag(diagonal_inferior, k=-1)\n",
        "\n",
        "matriz_tridiagonal = matriz_principal + matriz_superior + matriz_inferior\n",
        "matriz_tridiagonal"
      ]
    },
    {
      "cell_type": "markdown",
      "id": "2aa19ccc",
      "metadata": {
        "id": "2aa19ccc"
      },
      "source": [
        "Podemos definir matrizes com componentes aleatórias com diferentes distribuições:"
      ]
    },
    {
      "cell_type": "code",
      "execution_count": null,
      "id": "65762408",
      "metadata": {
        "id": "65762408",
        "colab": {
          "base_uri": "https://localhost:8080/"
        },
        "outputId": "07c293c5-db2b-4d3e-a969-31d9c5ba006a"
      },
      "outputs": [
        {
          "output_type": "execute_result",
          "data": {
            "text/plain": [
              "array([[0.20846054, 0.48168106, 0.42053804, 0.859182  ],\n",
              "       [0.17116155, 0.33886396, 0.27053283, 0.69104135],\n",
              "       [0.22040452, 0.81195092, 0.01052687, 0.5612037 ]])"
            ]
          },
          "metadata": {},
          "execution_count": 52
        }
      ],
      "source": [
        "# Distribuição uniforme\n",
        "np.random.seed(22)\n",
        "m = 3\n",
        "n = 4\n",
        "np.random.rand(m,n)"
      ]
    },
    {
      "cell_type": "code",
      "execution_count": null,
      "id": "66f992e9",
      "metadata": {
        "id": "66f992e9",
        "colab": {
          "base_uri": "https://localhost:8080/"
        },
        "outputId": "e2460ed8-4f36-4ac5-c16e-9c329753eedc"
      },
      "outputs": [
        {
          "output_type": "execute_result",
          "data": {
            "text/plain": [
              "array([[ 0.58775221,  0.75231758, -1.05850255,  1.05597241],\n",
              "       [ 0.74775027,  1.06467659,  1.52012959, -1.48860294],\n",
              "       [ 1.85998989, -1.59861303, -0.64607361,  0.337325  ]])"
            ]
          },
          "metadata": {},
          "execution_count": 53
        }
      ],
      "source": [
        "# Distribuição normal padrão\n",
        "A_normal = np.random.randn(m,n)\n",
        "A_normal"
      ]
    },
    {
      "cell_type": "code",
      "execution_count": null,
      "id": "5c2df464",
      "metadata": {
        "id": "5c2df464",
        "outputId": "f86d40f4-9a15-4720-e51b-7138ca97eb57",
        "colab": {
          "base_uri": "https://localhost:8080/"
        }
      },
      "outputs": [
        {
          "output_type": "execute_result",
          "data": {
            "text/plain": [
              "array([[10.20395785,  9.49814093,  9.84237539,  7.82967167],\n",
              "       [11.1898569 ,  8.72218386,  7.78432628, 14.21229151],\n",
              "       [ 8.86522446,  9.04010041,  6.15354029, 10.79917708]])"
            ]
          },
          "metadata": {},
          "execution_count": 55
        }
      ],
      "source": [
        "# Distribuição normal qualquer\n",
        "mean = 10\n",
        "std = 2\n",
        "np.random.normal(mean, std, (m,n))"
      ]
    },
    {
      "cell_type": "markdown",
      "id": "96bedd3f",
      "metadata": {
        "id": "96bedd3f"
      },
      "source": [
        "Podemos definir matrizes com componentes aleatórias inteiras:"
      ]
    },
    {
      "cell_type": "code",
      "execution_count": null,
      "id": "323a2ac5",
      "metadata": {
        "id": "323a2ac5",
        "outputId": "d251c18c-f1c6-41a3-f5f2-eb32cffee859",
        "colab": {
          "base_uri": "https://localhost:8080/"
        }
      },
      "outputs": [
        {
          "output_type": "execute_result",
          "data": {
            "text/plain": [
              "array([[0, 8, 4, 0],\n",
              "       [1, 5, 6, 8],\n",
              "       [2, 6, 5, 6]])"
            ]
          },
          "metadata": {},
          "execution_count": 58
        }
      ],
      "source": [
        "A_int = np.random.randint(0,10,(m,n))\n",
        "A_int"
      ]
    },
    {
      "cell_type": "markdown",
      "id": "b11f62c6",
      "metadata": {
        "id": "b11f62c6"
      },
      "source": [
        "### 6. Definindo matrizes por uma lei de formação\n",
        "\n",
        "Podemos definir uma matriz de acordo com uma lei de formação para seus elementos $a_{ij}$. O modo mais imediato, mas não eficiente,  é o seguinte:"
      ]
    },
    {
      "cell_type": "code",
      "execution_count": null,
      "id": "c6456d76",
      "metadata": {
        "id": "c6456d76",
        "outputId": "0499bd2b-44d7-4a1d-ffa2-73b6cc8190b8",
        "colab": {
          "base_uri": "https://localhost:8080/"
        }
      },
      "outputs": [
        {
          "output_type": "execute_result",
          "data": {
            "text/plain": [
              "array([[1.        , 1.5       , 2.33333333, 3.25      ],\n",
              "       [0.5       , 1.33333333, 2.25      , 3.2       ],\n",
              "       [0.33333333, 1.25      , 2.2       , 3.16666667],\n",
              "       [0.25      , 1.2       , 2.16666667, 3.14285714]])"
            ]
          },
          "metadata": {},
          "execution_count": 59
        }
      ],
      "source": [
        "n = 4\n",
        "M = np.zeros((n,n),dtype=float)\n",
        "for i in range(n):\n",
        "    for j in range(n):\n",
        "        M[i,j] = 1/(i+j+1)+j\n",
        "M"
      ]
    },
    {
      "cell_type": "markdown",
      "id": "b4b735dd",
      "metadata": {
        "id": "b4b735dd"
      },
      "source": [
        "Podemos usar o comando `fromfunction` do Numpy:"
      ]
    },
    {
      "cell_type": "code",
      "execution_count": null,
      "id": "925f982b",
      "metadata": {
        "id": "925f982b",
        "outputId": "47d86d25-7a8c-4013-dfee-a14b88a91980",
        "colab": {
          "base_uri": "https://localhost:8080/"
        }
      },
      "outputs": [
        {
          "output_type": "execute_result",
          "data": {
            "text/plain": [
              "array([[1.        , 1.5       , 2.33333333, 3.25      ],\n",
              "       [0.5       , 1.33333333, 2.25      , 3.2       ],\n",
              "       [0.33333333, 1.25      , 2.2       , 3.16666667],\n",
              "       [0.25      , 1.2       , 2.16666667, 3.14285714]])"
            ]
          },
          "metadata": {},
          "execution_count": 60
        }
      ],
      "source": [
        "n = 4\n",
        "A = np.fromfunction(lambda i, j: 1/(i+j+1)+j, (n, n), dtype=float)\n",
        "A"
      ]
    },
    {
      "cell_type": "markdown",
      "id": "f2469425",
      "metadata": {
        "id": "f2469425"
      },
      "source": [
        "Outro modo de definir uma matriz é a seguinte:"
      ]
    },
    {
      "cell_type": "code",
      "execution_count": null,
      "id": "37b06304",
      "metadata": {
        "id": "37b06304",
        "outputId": "2075c3bb-c36a-474c-aeb6-f419e8d40c45",
        "colab": {
          "base_uri": "https://localhost:8080/"
        }
      },
      "outputs": [
        {
          "output_type": "execute_result",
          "data": {
            "text/plain": [
              "array([[1.        , 1.5       , 2.33333333, 3.25      ],\n",
              "       [0.5       , 1.33333333, 2.25      , 3.2       ],\n",
              "       [0.33333333, 1.25      , 2.2       , 3.16666667],\n",
              "       [0.25      , 1.2       , 2.16666667, 3.14285714]])"
            ]
          },
          "metadata": {},
          "execution_count": 61
        }
      ],
      "source": [
        "A = np.array([[1/(i+j+1)+j for j in range(n)] for i in range(n)])\n",
        "A"
      ]
    },
    {
      "cell_type": "markdown",
      "id": "157378be",
      "metadata": {
        "id": "157378be"
      },
      "source": [
        "### 7. Operações com matrizes"
      ]
    },
    {
      "cell_type": "markdown",
      "id": "d852ea6a",
      "metadata": {
        "id": "d852ea6a"
      },
      "source": [
        "Seja a matrix  $M$ dada por:  "
      ]
    },
    {
      "cell_type": "code",
      "execution_count": null,
      "id": "a90567d8",
      "metadata": {
        "id": "a90567d8"
      },
      "outputs": [],
      "source": [
        "A = np.array([\n",
        "    [1, 2, 3],\n",
        "    [4, 5, 6],\n",
        "    [7, 8, 9]\n",
        "])"
      ]
    },
    {
      "cell_type": "markdown",
      "id": "18ef0ed5",
      "metadata": {
        "id": "18ef0ed5"
      },
      "source": [
        "Operações sobre arrays são feitas elemento a elemento. Por exemplo."
      ]
    },
    {
      "cell_type": "code",
      "execution_count": null,
      "id": "24130a16",
      "metadata": {
        "id": "24130a16",
        "colab": {
          "base_uri": "https://localhost:8080/"
        },
        "outputId": "a95d9c6e-e0bc-4a8e-d970-6127b08cc09c"
      },
      "outputs": [
        {
          "output_type": "execute_result",
          "data": {
            "text/plain": [
              "array([[ 1,  4,  9],\n",
              "       [16, 25, 36],\n",
              "       [49, 64, 81]])"
            ]
          },
          "metadata": {},
          "execution_count": 64
        }
      ],
      "source": [
        "#Eleva cada componente ao quadrado\n",
        "A**2"
      ]
    },
    {
      "cell_type": "code",
      "execution_count": null,
      "id": "f2190e50",
      "metadata": {
        "id": "f2190e50",
        "colab": {
          "base_uri": "https://localhost:8080/"
        },
        "outputId": "48479377-632f-4512-de59-bbaf60debb08"
      },
      "outputs": [
        {
          "output_type": "execute_result",
          "data": {
            "text/plain": [
              "array([[ 0.84147098,  0.90929743,  0.14112001],\n",
              "       [-0.7568025 , -0.95892427, -0.2794155 ],\n",
              "       [ 0.6569866 ,  0.98935825,  0.41211849]])"
            ]
          },
          "metadata": {},
          "execution_count": 65
        }
      ],
      "source": [
        "#Calcula o seno de cada componente\n",
        "np.sin(A)"
      ]
    },
    {
      "cell_type": "markdown",
      "id": "62719a62",
      "metadata": {
        "id": "62719a62"
      },
      "source": [
        "Para elevar a matriz quadrado fazemos"
      ]
    },
    {
      "cell_type": "code",
      "execution_count": null,
      "id": "7a7b5146",
      "metadata": {
        "id": "7a7b5146",
        "outputId": "cc2a3b8e-84ea-4520-b434-46ff9f5c11dd",
        "colab": {
          "base_uri": "https://localhost:8080/"
        }
      },
      "outputs": [
        {
          "output_type": "execute_result",
          "data": {
            "text/plain": [
              "array([[ 30,  36,  42],\n",
              "       [ 66,  81,  96],\n",
              "       [102, 126, 150]])"
            ]
          },
          "metadata": {},
          "execution_count": 66
        }
      ],
      "source": [
        "A@A"
      ]
    },
    {
      "cell_type": "code",
      "execution_count": null,
      "id": "26a101df",
      "metadata": {
        "id": "26a101df",
        "outputId": "9fd1ffc4-ba8d-4ecf-f0d4-ec9a896adb65",
        "colab": {
          "base_uri": "https://localhost:8080/"
        }
      },
      "outputs": [
        {
          "output_type": "execute_result",
          "data": {
            "text/plain": [
              "array([[1, 4, 7],\n",
              "       [2, 5, 8],\n",
              "       [3, 6, 9]])"
            ]
          },
          "metadata": {},
          "execution_count": 67
        }
      ],
      "source": [
        "np.transpose(A)"
      ]
    },
    {
      "cell_type": "markdown",
      "id": "45765c2b",
      "metadata": {
        "id": "45765c2b"
      },
      "source": [
        "A matriz tranposta de $A$ é dada por"
      ]
    },
    {
      "cell_type": "code",
      "execution_count": null,
      "id": "907fa0fe",
      "metadata": {
        "id": "907fa0fe",
        "outputId": "1deb7a82-8c9d-4e63-fe8d-dd7968c6d5df",
        "colab": {
          "base_uri": "https://localhost:8080/"
        }
      },
      "outputs": [
        {
          "output_type": "execute_result",
          "data": {
            "text/plain": [
              "array([[1, 4, 7],\n",
              "       [2, 5, 8],\n",
              "       [3, 6, 9]])"
            ]
          },
          "metadata": {},
          "execution_count": 68
        }
      ],
      "source": [
        "A.T"
      ]
    },
    {
      "cell_type": "markdown",
      "id": "45ffe1bc",
      "metadata": {
        "id": "45ffe1bc"
      },
      "source": [
        "Notemos, como esperado, que $A A^T$ é simétrica:"
      ]
    },
    {
      "cell_type": "code",
      "execution_count": null,
      "id": "8eeb9c0e",
      "metadata": {
        "id": "8eeb9c0e",
        "outputId": "ad19339a-d3a1-40f2-f0e5-2db514d1cddb",
        "colab": {
          "base_uri": "https://localhost:8080/"
        }
      },
      "outputs": [
        {
          "output_type": "execute_result",
          "data": {
            "text/plain": [
              "array([[ 14,  32,  50],\n",
              "       [ 32,  77, 122],\n",
              "       [ 50, 122, 194]])"
            ]
          },
          "metadata": {},
          "execution_count": 69
        }
      ],
      "source": [
        "A@A.T"
      ]
    },
    {
      "cell_type": "markdown",
      "id": "d133c752",
      "metadata": {
        "id": "d133c752"
      },
      "source": [
        "Façamos uma multiplicação matricial usual entre uma matriz e um vetor.\n",
        "Consideremos a seguinte matriz $ A $ e o vetor $ \\mathbf{v} $:\n",
        "\n",
        "$$\n",
        "A = \\begin{bmatrix}\n",
        "2 & 3 & -1 \\\\\n",
        "0 & 1 & 4 \\\\\n",
        "-2 & 0 & 5\n",
        "\\end{bmatrix}\n",
        "$$\n",
        "\n",
        "$$\n",
        "\\mathbf{v} = \\begin{bmatrix}\n",
        "1 \\\\\n",
        "-1 \\\\\n",
        "2\n",
        "\\end{bmatrix}\n",
        "$$\n",
        "\n",
        "Queremos calcular o produto $ A\\mathbf{v} $. Isso pode ser feito de dois modos:\n",
        "\n",
        "(i) Definimos uma matriz $1 \\times 3$(note os dois colchetes, que caracteriza o 2-array):"
      ]
    },
    {
      "cell_type": "code",
      "execution_count": null,
      "id": "402ae8c5",
      "metadata": {
        "id": "402ae8c5",
        "outputId": "478306f4-1ec1-4041-dd1c-9430da7847d3",
        "colab": {
          "base_uri": "https://localhost:8080/"
        }
      },
      "outputs": [
        {
          "output_type": "execute_result",
          "data": {
            "text/plain": [
              "array([-3,  7,  8])"
            ]
          },
          "metadata": {},
          "execution_count": 70
        }
      ],
      "source": [
        "A = np.array([[2,3,-1],[0,1,4],[-2,0,5]])\n",
        "v = np.array([1,-1,2])\n",
        "A@v"
      ]
    },
    {
      "cell_type": "code",
      "source": [
        "np.dot(A,v)"
      ],
      "metadata": {
        "colab": {
          "base_uri": "https://localhost:8080/"
        },
        "id": "-jBWqTI-CbbA",
        "outputId": "b2a132fc-fdc4-4fc7-c897-3f7065ef9ca0"
      },
      "id": "-jBWqTI-CbbA",
      "execution_count": null,
      "outputs": [
        {
          "output_type": "execute_result",
          "data": {
            "text/plain": [
              "array([-3,  7,  8])"
            ]
          },
          "metadata": {},
          "execution_count": 71
        }
      ]
    },
    {
      "cell_type": "code",
      "source": [
        "u = np.array([[1,2,3]])\n",
        "u"
      ],
      "metadata": {
        "colab": {
          "base_uri": "https://localhost:8080/"
        },
        "id": "PPYtE6CpCwwp",
        "outputId": "a2472cdf-bceb-46af-d17f-3285ba5823b2"
      },
      "id": "PPYtE6CpCwwp",
      "execution_count": null,
      "outputs": [
        {
          "output_type": "execute_result",
          "data": {
            "text/plain": [
              "array([[1, 2, 3]])"
            ]
          },
          "metadata": {},
          "execution_count": 73
        }
      ]
    },
    {
      "cell_type": "code",
      "source": [
        "ut = u.T\n",
        "ut"
      ],
      "metadata": {
        "colab": {
          "base_uri": "https://localhost:8080/"
        },
        "id": "9PrQ_5b2CbkR",
        "outputId": "be4e5ad1-ea05-487b-adfb-a934f3626a50"
      },
      "id": "9PrQ_5b2CbkR",
      "execution_count": null,
      "outputs": [
        {
          "output_type": "execute_result",
          "data": {
            "text/plain": [
              "array([[1],\n",
              "       [2],\n",
              "       [3]])"
            ]
          },
          "metadata": {},
          "execution_count": 74
        }
      ]
    },
    {
      "cell_type": "code",
      "source": [
        "A@u.T"
      ],
      "metadata": {
        "colab": {
          "base_uri": "https://localhost:8080/"
        },
        "id": "Xp1n27uEDF4C",
        "outputId": "301327ad-2ee6-47ba-ed36-03687a4ec101"
      },
      "id": "Xp1n27uEDF4C",
      "execution_count": null,
      "outputs": [
        {
          "output_type": "execute_result",
          "data": {
            "text/plain": [
              "array([[ 5],\n",
              "       [14],\n",
              "       [13]])"
            ]
          },
          "metadata": {},
          "execution_count": 77
        }
      ]
    },
    {
      "cell_type": "code",
      "source": [
        "u.shape"
      ],
      "metadata": {
        "colab": {
          "base_uri": "https://localhost:8080/"
        },
        "id": "Ees3FdwxDWbJ",
        "outputId": "82d23482-c261-46be-e647-c9f72b709ab7"
      },
      "id": "Ees3FdwxDWbJ",
      "execution_count": null,
      "outputs": [
        {
          "output_type": "execute_result",
          "data": {
            "text/plain": [
              "(1, 3)"
            ]
          },
          "metadata": {},
          "execution_count": 78
        }
      ]
    },
    {
      "cell_type": "code",
      "source": [
        "v.shape"
      ],
      "metadata": {
        "colab": {
          "base_uri": "https://localhost:8080/"
        },
        "id": "7vjXJtBFDcxZ",
        "outputId": "e08ed093-6eb0-4715-c476-12e0068c6b13"
      },
      "id": "7vjXJtBFDcxZ",
      "execution_count": null,
      "outputs": [
        {
          "output_type": "execute_result",
          "data": {
            "text/plain": [
              "(3,)"
            ]
          },
          "metadata": {},
          "execution_count": 79
        }
      ]
    },
    {
      "cell_type": "markdown",
      "id": "0f6bb22d",
      "metadata": {
        "id": "0f6bb22d"
      },
      "source": [
        "Para calcular a inversa de uma matriz procedemos do seguinte modo:"
      ]
    },
    {
      "cell_type": "code",
      "execution_count": null,
      "id": "2c2a7599",
      "metadata": {
        "id": "2c2a7599",
        "outputId": "5bc69e4a-df43-44c6-a5ae-7868bce57e99",
        "colab": {
          "base_uri": "https://localhost:8080/"
        }
      },
      "outputs": [
        {
          "output_type": "execute_result",
          "data": {
            "text/plain": [
              "array([[-0.3125,  0.9375, -0.8125],\n",
              "       [ 0.5   , -0.5   ,  0.5   ],\n",
              "       [-0.125 ,  0.375 , -0.125 ]])"
            ]
          },
          "metadata": {},
          "execution_count": 81
        }
      ],
      "source": [
        "np.linalg.inv(A)"
      ]
    },
    {
      "cell_type": "code",
      "execution_count": null,
      "id": "54dba1eb",
      "metadata": {
        "id": "54dba1eb",
        "outputId": "4629c537-c894-4a44-d782-6f497ec8258e",
        "colab": {
          "base_uri": "https://localhost:8080/"
        }
      },
      "outputs": [
        {
          "output_type": "execute_result",
          "data": {
            "text/plain": [
              "array([[1, 2, 3],\n",
              "       [4, 3, 2],\n",
              "       [3, 6, 7]])"
            ]
          },
          "metadata": {},
          "execution_count": 82
        }
      ],
      "source": [
        "A = np.array([[1,2,3], [4,3,2], [3,6,7]])\n",
        "A"
      ]
    },
    {
      "cell_type": "markdown",
      "id": "7da75224",
      "metadata": {
        "id": "7da75224"
      },
      "source": [
        "O traço da matriz $A$ (soma dos elementos da diagonal) é dado por"
      ]
    },
    {
      "cell_type": "code",
      "execution_count": null,
      "id": "0478ee32",
      "metadata": {
        "id": "0478ee32",
        "outputId": "c65e5b28-025f-4f3e-e4d5-dcd651f7870c",
        "colab": {
          "base_uri": "https://localhost:8080/"
        }
      },
      "outputs": [
        {
          "output_type": "execute_result",
          "data": {
            "text/plain": [
              "11"
            ]
          },
          "metadata": {},
          "execution_count": 83
        }
      ],
      "source": [
        "np.trace(A)"
      ]
    },
    {
      "cell_type": "markdown",
      "id": "db770637",
      "metadata": {
        "id": "db770637"
      },
      "source": [
        "O determinante é dado por:"
      ]
    },
    {
      "cell_type": "code",
      "execution_count": null,
      "id": "6db16bbb",
      "metadata": {
        "id": "6db16bbb",
        "outputId": "d18c437c-a0b0-4233-9d64-189fc8f0e3cb",
        "colab": {
          "base_uri": "https://localhost:8080/"
        }
      },
      "outputs": [
        {
          "output_type": "execute_result",
          "data": {
            "text/plain": [
              "10.000000000000002"
            ]
          },
          "metadata": {},
          "execution_count": 84
        }
      ],
      "source": [
        "np.linalg.det(A)"
      ]
    },
    {
      "cell_type": "markdown",
      "id": "a88dadd7",
      "metadata": {
        "id": "a88dadd7"
      },
      "source": [
        "Suponhamos que $A$ é uma matrix de componentes complexas:"
      ]
    },
    {
      "cell_type": "code",
      "execution_count": null,
      "id": "54e14040",
      "metadata": {
        "id": "54e14040",
        "colab": {
          "base_uri": "https://localhost:8080/"
        },
        "outputId": "e40e2057-3813-4590-9650-5e04bc217fb4"
      },
      "outputs": [
        {
          "output_type": "execute_result",
          "data": {
            "text/plain": [
              "array([[1.+2.j, 3.+4.j],\n",
              "       [5.+6.j, 7.+8.j]])"
            ]
          },
          "metadata": {},
          "execution_count": 85
        }
      ],
      "source": [
        "Ac = np.array([[1+2j, 3+4j], [5+6j, 7+8j]])\n",
        "Ac"
      ]
    },
    {
      "cell_type": "markdown",
      "id": "e79c6f36",
      "metadata": {
        "id": "e79c6f36"
      },
      "source": [
        "A matrix transposta  conjugada(ou hermitiana conjugada) de $A$, denominada $A^{\\dagger}$ é dada por"
      ]
    },
    {
      "cell_type": "code",
      "execution_count": null,
      "id": "ac72db5f",
      "metadata": {
        "id": "ac72db5f",
        "colab": {
          "base_uri": "https://localhost:8080/"
        },
        "outputId": "46b911f0-02ed-4356-c534-1811c71d1ef2"
      },
      "outputs": [
        {
          "output_type": "execute_result",
          "data": {
            "text/plain": [
              "array([[1.-2.j, 5.-6.j],\n",
              "       [3.-4.j, 7.-8.j]])"
            ]
          },
          "metadata": {},
          "execution_count": 86
        }
      ],
      "source": [
        "AH = np.conjugate(Ac.T)\n",
        "AH"
      ]
    },
    {
      "cell_type": "markdown",
      "id": "48fff818",
      "metadata": {
        "id": "48fff818"
      },
      "source": [
        "Notemos que"
      ]
    },
    {
      "cell_type": "markdown",
      "id": "289bb8d4",
      "metadata": {
        "id": "289bb8d4"
      },
      "source": [
        " Se a $A^{\\dagger}=A$, a matriz é dita hermitiana. Se $A^{\\dagger}A=AA^{\\dagger}=I$, ou $A^{\\dagger}=A^{-1}$, a matriz é dita unitária. Nesse caso, a matriz hermiana conjugada é igual à sua inversa. Tais matrizes são fundamentais em mecânica quântica, pois matrizes hermitianas têm autovalores reais (observáveis físicos) e uma matriz unitária preserva a norma $\\mathbf{v}^{\\dagger}\\mathbf{v}$ de um vetor $\\mathbf{v}$:\n",
        "\n",
        "$$\n",
        "(U\\mathbf{v})^{\\dagger}U\\mathbf{v} = \\mathbf{v}^{\\dagger}U^{\\dagger}U\\mathbf{v} = \\mathbf{v}^{\\dagger}\\mathbf{v}\\,.\n",
        "$$\n"
      ]
    },
    {
      "cell_type": "markdown",
      "id": "f9ec8db8",
      "metadata": {
        "id": "f9ec8db8"
      },
      "source": [
        "### 8. Normas matriciais"
      ]
    },
    {
      "cell_type": "markdown",
      "id": "2d745801",
      "metadata": {
        "id": "2d745801"
      },
      "source": [
        "Normas matriciais são funções que atribuem um número real não negativo a uma matriz, quantificando o \"tamanho\" ou \"magnitude\" da matriz de uma maneira específica. Assim como as normas vetoriais medem o comprimento ou a magnitude de um vetor, as normas matriciais são usadas para medir determinados tipos de magnitude de uma matriz.\n",
        "\n",
        "As normas matriciais são amplamente utilizadas em álgebra linear, análise numérica e outras áreas matemáticas para analisar a estabilidade, sensibilidade e comportamento de operações envolvendo matrizes.\n",
        "\n",
        "Uma função $ \\|\\cdot\\|: \\mathbb{R}^{m \\times n} \\rightarrow \\mathbb{R} $ é considerada uma norma matricial se satisfizer as seguintes condições:\n",
        "\n",
        "1. Subaditividade (Desigualdade Triangular):\n",
        "   $$\n",
        "   \\|A + B\\| \\leq \\|A\\| + \\|B\\| \\quad \\text{para todas as matrizes } A \\text{ e } B \\text{ de mesma dimensão}.\n",
        "   $$\n",
        "\n",
        "\n",
        "2. Multiplicação Escalar:\n",
        "   $$\n",
        "   \\|\\alpha A\\| = |\\alpha| \\cdot \\|A\\| \\quad \\text{para todo escalar } \\alpha \\text{ e matriz } A.\n",
        "   $$\n",
        "\n",
        "\n",
        "3. Não-Negatividade e Definitividade:\n",
        "  $$\n",
        "   \\|A\\| \\geq 0 \\quad \\text{e} \\quad \\|A\\| = 0 \\text{ se e somente se } A = 0.\n",
        "   $$\n",
        "   \n",
        "   \n",
        "4. Compatibilidade com a Multiplicação Matricial:\n",
        "   $$\n",
        "   \\|AB\\| \\leq \\|A\\| \\cdot \\|B\\| \\quad \\text{para todas as matrizes } A \\text{ e } B \\text{ onde o produto } AB \\text{ é definido}.\n",
        "   $$\n",
        "\n"
      ]
    },
    {
      "cell_type": "markdown",
      "id": "d0d2c223",
      "metadata": {
        "id": "d0d2c223"
      },
      "source": [
        "Examinemos os principais tipos de normas matriciais:\n",
        "\n",
        "- Norma 1 (Norma da Coluna Máxima, $ p = 1 $):\n",
        "  $$\n",
        "  \\|A\\|_1 = \\max_{1 \\leq j \\leq n} \\sum_{i=1}^{m} |a_{ij}|\n",
        "  $$\n",
        "  A norma 1 mede a maior soma absoluta das colunas da matriz.\n",
        "  \n",
        "  Em Python,"
      ]
    },
    {
      "cell_type": "code",
      "execution_count": null,
      "id": "ab1903a0",
      "metadata": {
        "id": "ab1903a0",
        "outputId": "49030abd-bc55-41df-c61b-077694466a56",
        "colab": {
          "base_uri": "https://localhost:8080/"
        }
      },
      "outputs": [
        {
          "output_type": "execute_result",
          "data": {
            "text/plain": [
              "18.0"
            ]
          },
          "metadata": {},
          "execution_count": 87
        }
      ],
      "source": [
        "import numpy as np\n",
        "A = np.array([\n",
        "    [1, 2, 3],\n",
        "    [4, 5, 6],\n",
        "    [7, 8, 9]\n",
        "])\n",
        "# Norma 1\n",
        "norm1 = np.linalg.norm(A, 1)\n",
        "norm1"
      ]
    },
    {
      "cell_type": "markdown",
      "id": "9e7a7a2d",
      "metadata": {
        "id": "9e7a7a2d"
      },
      "source": [
        "- Norma 2 (Norma Espectral, $ p = 2 $):\n",
        "  $$\n",
        "  \\|A\\|_2 = \\sqrt{\\lambda_{\\text{max}}}\\,,\n",
        "  $$\n",
        "  sendo  $ \\lambda_{\\text{max}}$ maior autovalor de $ A^{\\dagger}A $. Aqui $A^{\\dagger}$ é a matriz hermitiana conjugada de $A$. Se $A$ for real, $A^{\\dagger}=A^T$ Em Python,"
      ]
    },
    {
      "cell_type": "code",
      "execution_count": null,
      "id": "e5986227",
      "metadata": {
        "id": "e5986227",
        "outputId": "95f35fbf-0fcc-4018-e9f8-88a37535b1fd",
        "colab": {
          "base_uri": "https://localhost:8080/"
        }
      },
      "outputs": [
        {
          "output_type": "execute_result",
          "data": {
            "text/plain": [
              "16.84810335261421"
            ]
          },
          "metadata": {},
          "execution_count": 88
        }
      ],
      "source": [
        "norm2 = np.linalg.norm(A, 2)\n",
        "norm2"
      ]
    },
    {
      "cell_type": "markdown",
      "id": "c1336501",
      "metadata": {
        "id": "c1336501"
      },
      "source": [
        "- Norma Infinito (Norma da Linha Máxima, $ p = \\infty $):\n",
        "  $$\n",
        "  \\|A\\|_\\infty = \\max_{1 \\leq i \\leq m} \\sum_{j=1}^{n} |a_{ij}|\n",
        "  $$\n",
        "  \n",
        "  A norma infinito mede a maior soma absoluta das linhas da matriz. Em Python,"
      ]
    },
    {
      "cell_type": "code",
      "execution_count": null,
      "id": "cb4b5b13",
      "metadata": {
        "id": "cb4b5b13",
        "colab": {
          "base_uri": "https://localhost:8080/"
        },
        "outputId": "593aabfc-9530-4306-f17b-2b8d313226db"
      },
      "outputs": [
        {
          "output_type": "execute_result",
          "data": {
            "text/plain": [
              "24.0"
            ]
          },
          "metadata": {},
          "execution_count": 89
        }
      ],
      "source": [
        "norm_inf = np.linalg.norm(A, np.inf)\n",
        "norm_inf"
      ]
    },
    {
      "cell_type": "markdown",
      "id": "6adaf6ac",
      "metadata": {
        "id": "6adaf6ac"
      },
      "source": [
        "- Norma de Frobenius:\n",
        "\n",
        "$$\n",
        "\\|A\\|_F = \\sqrt{\\sum_{i=1}^{m} \\sum_{j=1}^{n} |a_{ij}|^2}\n",
        "$$\n",
        "\n",
        "Esta norma é equivalente à norma 2 para o vetor de elementos da matriz, sendo a raiz quadrada da soma dos quadrados de todos os elementos da matriz. Em Python,"
      ]
    },
    {
      "cell_type": "code",
      "execution_count": null,
      "id": "7feae84e",
      "metadata": {
        "id": "7feae84e",
        "colab": {
          "base_uri": "https://localhost:8080/"
        },
        "outputId": "962644b1-5cc5-44b2-f903-8896eef40f08"
      },
      "outputs": [
        {
          "output_type": "execute_result",
          "data": {
            "text/plain": [
              "16.881943016134134"
            ]
          },
          "metadata": {},
          "execution_count": 90
        }
      ],
      "source": [
        "np.linalg.norm(A,'fro')"
      ]
    },
    {
      "cell_type": "markdown",
      "id": "4b5e611b",
      "metadata": {
        "id": "4b5e611b"
      },
      "source": [
        "Normas matriciais podem ser usadas para estabelecer critérios de parada em algoritmos numéricos, análise de estabilidade de equações diferenciais, etc. Uma aplicação que exemplificaremos aqui é o cálculo do número de condionamento de uma matriz."
      ]
    },
    {
      "cell_type": "markdown",
      "id": "e8d216cc",
      "metadata": {
        "id": "e8d216cc"
      },
      "source": [
        "### 9. Número de condicionamento de uma matriz\n",
        "\n",
        "O número de condicionamento de uma matriz $ A $ é definido como:\n",
        "\n",
        "$$\n",
        "\\kappa(A) = \\|A\\| \\cdot \\|A^{-1}\\|\\,,\n",
        "$$\n",
        "\n",
        "sendo $ \\|A\\| $ a norma da matriz $ A$, e $ \\|A^{-1}\\| $ é a norma de sua inversa.  \n",
        "\n",
        "Esta é uma medida que indica a sensibilidade da solução de um sistema linear em relação a mudanças nos dados de entrada. Um número de condicionamento elevado sugere que a matriz pode causar problemas numéricos, como soluções instáveis ou imprecisas.\n",
        "\n",
        "O número de condicionamento frequentemente utiliza a norma 2 (norma espectral), que está relacionada aos autovalores da matriz. Este é o default em Python:"
      ]
    },
    {
      "cell_type": "code",
      "execution_count": null,
      "id": "95e535bd",
      "metadata": {
        "id": "95e535bd"
      },
      "outputs": [],
      "source": [
        "A = np.array([[1,2,3],[4,7,2],[3,7,8]])"
      ]
    },
    {
      "cell_type": "markdown",
      "id": "33b32dd6",
      "metadata": {
        "id": "33b32dd6"
      },
      "source": [
        "Usando outras normas:"
      ]
    },
    {
      "cell_type": "code",
      "execution_count": null,
      "id": "291334c3",
      "metadata": {
        "id": "291334c3",
        "outputId": "4295ee6f-83a3-4da8-b1ae-0b1041e1c189",
        "colab": {
          "base_uri": "https://localhost:8080/"
        }
      },
      "outputs": [
        {
          "output_type": "execute_result",
          "data": {
            "text/plain": [
              "109.09090909090907"
            ]
          },
          "metadata": {},
          "execution_count": 93
        }
      ],
      "source": [
        "# Condição de A, norma 1\n",
        "np.linalg.cond(A,1)"
      ]
    },
    {
      "cell_type": "code",
      "execution_count": null,
      "id": "15c347bd",
      "metadata": {
        "id": "15c347bd",
        "outputId": "ff4345da-5159-45c5-d99f-01713297bd75",
        "colab": {
          "base_uri": "https://localhost:8080/"
        }
      },
      "outputs": [
        {
          "output_type": "execute_result",
          "data": {
            "text/plain": [
              "104.72727272727272"
            ]
          },
          "metadata": {},
          "execution_count": 94
        }
      ],
      "source": [
        "# Condição de A com norma infinito\n",
        "np.linalg.cond(A,np.inf)"
      ]
    },
    {
      "cell_type": "code",
      "execution_count": null,
      "id": "083e06df",
      "metadata": {
        "id": "083e06df",
        "colab": {
          "base_uri": "https://localhost:8080/"
        },
        "outputId": "9b7344b4-9c84-4a87-e530-7ea01400fa6e"
      },
      "outputs": [
        {
          "output_type": "execute_result",
          "data": {
            "text/plain": [
              "70.16686133604712"
            ]
          },
          "metadata": {},
          "execution_count": 95
        }
      ],
      "source": [
        "# Norma Frobenius\n",
        "np.linalg.cond(A,'fro')"
      ]
    },
    {
      "cell_type": "code",
      "source": [
        "B = np.array([[1,-1],[-1000,999]])\n",
        "C = np.array([0,1000])\n",
        "np.linalg.solve(B,C)"
      ],
      "metadata": {
        "colab": {
          "base_uri": "https://localhost:8080/"
        },
        "id": "qPFpZ4axJ6Fs",
        "outputId": "39ebcb72-6fd1-4c35-a657-9aad23914baf"
      },
      "id": "qPFpZ4axJ6Fs",
      "execution_count": null,
      "outputs": [
        {
          "output_type": "execute_result",
          "data": {
            "text/plain": [
              "array([-1000., -1000.])"
            ]
          },
          "metadata": {},
          "execution_count": 98
        }
      ]
    },
    {
      "cell_type": "code",
      "source": [
        "B = np.array([[1,-1],[-1001,999]])\n",
        "C = np.array([0,1000])\n",
        "np.linalg.solve(B,C)"
      ],
      "metadata": {
        "colab": {
          "base_uri": "https://localhost:8080/"
        },
        "id": "R3b9zlNiKnBl",
        "outputId": "9a3e133d-eac2-4606-fed2-055a4fa4e91a"
      },
      "id": "R3b9zlNiKnBl",
      "execution_count": null,
      "outputs": [
        {
          "output_type": "execute_result",
          "data": {
            "text/plain": [
              "array([-500., -500.])"
            ]
          },
          "metadata": {},
          "execution_count": 99
        }
      ]
    },
    {
      "cell_type": "code",
      "source": [
        "np.linalg.cond(B,1)"
      ],
      "metadata": {
        "colab": {
          "base_uri": "https://localhost:8080/"
        },
        "id": "IQvKBkvDKupc",
        "outputId": "a73da0c2-4c70-4b0a-ed2d-935e3668f1eb"
      },
      "id": "IQvKBkvDKupc",
      "execution_count": null,
      "outputs": [
        {
          "output_type": "execute_result",
          "data": {
            "text/plain": [
              "1001999.9999999783"
            ]
          },
          "metadata": {},
          "execution_count": 100
        }
      ]
    },
    {
      "cell_type": "markdown",
      "id": "9bc4ff24",
      "metadata": {
        "id": "9bc4ff24"
      },
      "source": [
        "### 10. Autovalores e autovetores de uma matriz"
      ]
    },
    {
      "cell_type": "markdown",
      "id": "4d4b716c",
      "metadata": {
        "id": "4d4b716c"
      },
      "source": [
        "Consideremos o problema de determinar os autovalores e autovetores da seguinte matriz\n",
        "\n",
        "$$\n",
        "A = \\begin{bmatrix}\n",
        "2 & -1 & 0 \\\\\n",
        "1 & 3 & -1 \\\\\n",
        "0 & 2 & 1 \\\\\n",
        "\\end{bmatrix}\n",
        "$$\n",
        "\n",
        "Os autovalores $ \\lambda $ são determinados pela equação característica:\n",
        "\n",
        "$$\n",
        "\\det(A - \\lambda I) = 0\n",
        "$$\n",
        "\n",
        "ou seja,\n",
        "\n",
        "$$\n",
        "\\det(A - \\lambda I) = \\left| \\begin{array}{ccc}\n",
        "2 - \\lambda & -1 & 0 \\\\\n",
        "1 & 3 - \\lambda & -1 \\\\\n",
        "0 & 2 & 1 - \\lambda \\\\\n",
        "\\end{array} \\right|=\\lambda^3 - 6\\lambda^2 + 14\\lambda - 11 = 0\\,.\n",
        "$$\n",
        "\n",
        "Utilizaremos o Python para encontrar as raízes da equação:"
      ]
    },
    {
      "cell_type": "code",
      "execution_count": null,
      "id": "2131162a",
      "metadata": {
        "id": "2131162a"
      },
      "outputs": [],
      "source": [
        "import numpy as np"
      ]
    },
    {
      "cell_type": "code",
      "execution_count": null,
      "id": "2d5b5ff8",
      "metadata": {
        "id": "2d5b5ff8",
        "outputId": "61f5cd0d-7719-43c8-d65b-903c2be61f89"
      },
      "outputs": [
        {
          "name": "stdout",
          "output_type": "stream",
          "text": [
            "Autovalores:\n",
            "[2.22669883+1.46771151j 2.22669883-1.46771151j 1.54660235+0.j        ]\n"
          ]
        }
      ],
      "source": [
        "# Coeficientes do polinômio característico\n",
        "\n",
        "\n",
        "# Encontrar as raízes da equação cúbica\n"
      ]
    },
    {
      "cell_type": "markdown",
      "id": "7841ed59",
      "metadata": {
        "id": "7841ed59"
      },
      "source": [
        "Podemos utilizar o Python para calcular os autovalores e autovetores diretamente:"
      ]
    },
    {
      "cell_type": "code",
      "execution_count": null,
      "id": "9a0b7b5f",
      "metadata": {
        "id": "9a0b7b5f"
      },
      "outputs": [],
      "source": []
    },
    {
      "cell_type": "code",
      "execution_count": null,
      "id": "a13bad00",
      "metadata": {
        "id": "a13bad00",
        "outputId": "58c71ded-c573-44d2-f9c7-6b159d70ee91"
      },
      "outputs": [
        {
          "data": {
            "text/plain": [
              "array([2.22669883+1.46771151j, 2.22669883-1.46771151j,\n",
              "       1.54660235+0.j        ])"
            ]
          },
          "execution_count": 8,
          "metadata": {},
          "output_type": "execute_result"
        }
      ],
      "source": []
    },
    {
      "cell_type": "code",
      "execution_count": null,
      "id": "1fc90e12",
      "metadata": {
        "id": "1fc90e12",
        "outputId": "afe87194-aa73-428d-846d-95d6706a45ba"
      },
      "outputs": [
        {
          "data": {
            "text/plain": [
              "array([[ 0.36126918-0.21800183j,  0.36126918+0.21800183j,\n",
              "        -0.50266229+0.j        ],\n",
              "       [-0.4018631 -0.48081818j, -0.4018631 +0.48081818j,\n",
              "        -0.2279059 +0.j        ],\n",
              "       [-0.6551944 +0.j        , -0.6551944 -0.j        ,\n",
              "        -0.83390019+0.j        ]])"
            ]
          },
          "execution_count": 9,
          "metadata": {},
          "output_type": "execute_result"
        }
      ],
      "source": []
    },
    {
      "cell_type": "markdown",
      "id": "f0438a67",
      "metadata": {
        "id": "f0438a67"
      },
      "source": [
        "Verifiquemos os resultados. Por exemplo, examinemos se para o primeiro autovalor $\\lambda_1 $ e autovetor $\\mathbf{v}_1$ acima temos $A\\mathbf{v}_1=\\lambda_1 \\mathbf{v}_1$:"
      ]
    },
    {
      "cell_type": "code",
      "execution_count": null,
      "id": "3130717e",
      "metadata": {
        "id": "3130717e"
      },
      "outputs": [],
      "source": []
    },
    {
      "cell_type": "code",
      "execution_count": null,
      "id": "d456e57d",
      "metadata": {
        "id": "d456e57d",
        "outputId": "aac38055-b0a5-47dd-b28f-86c973fbc530"
      },
      "outputs": [
        {
          "data": {
            "text/plain": [
              "array([ 6.66133815e-16+9.99200722e-16j, -9.99200722e-16+0.00000000e+00j,\n",
              "       -2.22044605e-16-7.77156117e-16j])"
            ]
          },
          "execution_count": 12,
          "metadata": {},
          "output_type": "execute_result"
        }
      ],
      "source": []
    },
    {
      "cell_type": "markdown",
      "id": "7117d530",
      "metadata": {
        "id": "7117d530"
      },
      "source": [
        "Equivalentemente tal verificação poderia ser feita do seguinte modo:"
      ]
    },
    {
      "cell_type": "code",
      "execution_count": null,
      "id": "06d05416",
      "metadata": {
        "id": "06d05416",
        "outputId": "9000f4be-fdcd-44ac-d4b2-e8475d5c6760"
      },
      "outputs": [
        {
          "data": {
            "text/plain": [
              "True"
            ]
          },
          "execution_count": 16,
          "metadata": {},
          "output_type": "execute_result"
        }
      ],
      "source": []
    },
    {
      "cell_type": "markdown",
      "id": "9147b52f",
      "metadata": {
        "id": "9147b52f"
      },
      "source": [
        "### 11. Sistemas Lineares\n",
        "\n",
        "Definiremos funções em Python que realizam as operações elementares sobre linhas de uma matriz que serão úteis para resolver sistemas de equações lineares ou simplesmente, sistemas lineares.  Um [sistema linear](https://pt.wikipedia.org/wiki/Sistema_de_equações_lineares) é um conjunto de equações lineares acopladas entre por meio de variáveis $x_1,\\ldots, x_n$, da forma:\n",
        "\n",
        "$$\n",
        "\\left\\{\n",
        "\\begin{aligned}\n",
        "a_{11}x_1 + a_{12}x_2 + \\cdots + a_{1n}x_n & = b_1 \\\\\n",
        "a_{10}x_1 + a_{22}x_2 + \\cdots + a_{2n}x_n & = b_2 \\\\\n",
        "& \\vdots \\\\\n",
        "a_{m1}x_1 + a_{m1}x_2 + \\cdots + a_{mn}x_n & = b_m \\\\\n",
        "\\end{aligned}\n",
        "\\right.\n",
        "$$\n",
        "\n",
        "Em notação matricial o sistema linear de $n$ equações  e $n$ incógnitas é representado na forma\n",
        " $A X= B$, sendo\n",
        "\n",
        "$$\n",
        "A = \\begin{bmatrix}\n",
        "a_{11} & a_{12} & \\cdots & a_{1n} \\\\\n",
        "a_{21} & a_{22} & \\cdots & a_{2n} \\\\\n",
        "\\vdots & & & \\vdots \\\\\\\n",
        "a_{n 1} & a_{n 2} & \\cdots & a_{n n} \\\\\n",
        "\\end{bmatrix}\n",
        " \\ \\ , \\ \\\n",
        "X = \\begin{bmatrix}\n",
        "x_1 \\\\\\ x_2 \\\\ \\vdots \\\\ x_n\n",
        "\\end{bmatrix}\n",
        " \\ \\ , \\ \\\n",
        "b= \\begin{bmatrix}\n",
        "b_1 \\\\\\ b_2 \\\\\\ \\vdots \\\\ b_n\n",
        "\\end{bmatrix}\n",
        "$$"
      ]
    },
    {
      "cell_type": "markdown",
      "id": "d6a89fdb",
      "metadata": {
        "id": "d6a89fdb"
      },
      "source": [
        "**Exemplo.** Consideremos o seguinte sistema de equações lineares:\n",
        "\n",
        "$$\n",
        "\\begin{cases}\n",
        "2x + 3y - z = 5 \\\\\n",
        "4x + y + 2z = 6 \\\\\n",
        "-2x + 5y + 2z = -1\\,.\n",
        "\\end{cases}\n",
        "$$\n",
        "\n",
        "Nosso objetivo é encontrar os valores de $ x $, $ y $ e $ z $ que satisfaçam simultaneamente todas as três equações.\n",
        "\n",
        "Utilizaremos a biblioteca NumPy do Python para resolver o sistema.  Na forma matricial reescrevemos o sistema como:\n",
        "\n",
        "$$\n",
        "\\begin{bmatrix}\n",
        "2 & 3 & -1 \\\\\n",
        "4 & 1 & 2 \\\\\n",
        "-2 & 5 & 2\n",
        "\\end{bmatrix}\n",
        "\\begin{bmatrix}\n",
        "x \\\\ y \\\\ z\n",
        "\\end{bmatrix}\n",
        "=\n",
        "\\begin{bmatrix}\n",
        "5 \\\\ 6 \\\\ -1\n",
        "\\end{bmatrix}\\,,\n",
        "$$\n",
        "\n",
        "com:\n",
        "\n",
        "$$\n",
        "A = \\begin{bmatrix} 2 & 3 & -1 \\\\ 4 & 1 & 2 \\\\ -2 & 5 & 2 \\end{bmatrix}, \\quad\n",
        "X = \\begin{bmatrix} x \\\\ y \\\\ z \\end{bmatrix}, \\quad\n",
        "b = \\begin{bmatrix} 5 \\\\ 6 \\\\ -1 \\end{bmatrix}\\,.\n",
        "$$\n",
        "\n",
        "Resolvamos este problema em Python,  usando comandos do Numpy:"
      ]
    },
    {
      "cell_type": "code",
      "execution_count": null,
      "id": "c596604a",
      "metadata": {
        "id": "c596604a"
      },
      "outputs": [],
      "source": [
        "import numpy as np"
      ]
    },
    {
      "cell_type": "code",
      "execution_count": null,
      "id": "27bf0fa0",
      "metadata": {
        "id": "27bf0fa0"
      },
      "outputs": [],
      "source": []
    },
    {
      "cell_type": "code",
      "execution_count": null,
      "id": "c273b3e2",
      "metadata": {
        "id": "c273b3e2",
        "outputId": "925cf3e7-e45a-458f-dc55-2e23a1447298"
      },
      "outputs": [
        {
          "data": {
            "text/plain": [
              "array([ 1.52702703,  0.54054054, -0.32432432])"
            ]
          },
          "execution_count": 5,
          "metadata": {},
          "output_type": "execute_result"
        }
      ],
      "source": []
    },
    {
      "cell_type": "markdown",
      "id": "d767ad86",
      "metadata": {
        "id": "d767ad86"
      },
      "source": [
        "Podemos verificar o resultado:"
      ]
    },
    {
      "cell_type": "code",
      "execution_count": null,
      "id": "bee4e209",
      "metadata": {
        "id": "bee4e209",
        "outputId": "13aaacd3-bc96-4282-a8b8-6df86202f635"
      },
      "outputs": [
        {
          "data": {
            "text/plain": [
              "array([ 0.0000000e+00,  0.0000000e+00, -4.4408921e-16])"
            ]
          },
          "execution_count": 6,
          "metadata": {},
          "output_type": "execute_result"
        }
      ],
      "source": []
    },
    {
      "cell_type": "markdown",
      "id": "7f73892b",
      "metadata": {
        "id": "7f73892b"
      },
      "source": [
        "### 12. Exercícios"
      ]
    },
    {
      "cell_type": "markdown",
      "id": "1dff6da7",
      "metadata": {
        "id": "1dff6da7"
      },
      "source": [
        "**1.** Dados os vetores\n",
        "\n",
        "$$\n",
        "\\mathbf{v}_1=(4,5,3)\\,,\\quad \\mathbf{v}_2=(5,2,6)\\,,\n",
        "$$\n",
        "\n",
        "(i) Determine o ângulo entre os dois vetores.\n",
        "\n",
        "(ii) Determine o vetor projeção de $\\mathbf{v}_1$ na direção de $\\mathbf{v}_2$."
      ]
    },
    {
      "cell_type": "markdown",
      "id": "457e42a0",
      "metadata": {
        "id": "457e42a0"
      },
      "source": [
        "**2.** Determine a área do triângulo de vértices $(3,4,2)$, $(-2,1,9)$ e $(-4,2,-1)$."
      ]
    },
    {
      "cell_type": "markdown",
      "id": "2093ca78",
      "metadata": {
        "id": "2093ca78"
      },
      "source": [
        "**3.** Dados os vetores\n",
        "\n",
        "$$\n",
        "\\mathbf{v}_1=(2,5,1)\\,,\\qquad \\mathbf{v}_2=(-1,2,-3)\\,,\\quad \\mathbf{v}_3=(-4,1,-7)\\,,\n",
        "$$\n",
        "\n",
        "determine o volume do paralelepípedo definido por esses vetores."
      ]
    },
    {
      "cell_type": "markdown",
      "id": "22d8fd46",
      "metadata": {
        "id": "22d8fd46"
      },
      "source": [
        "**4.** Verifique  que a norma de Frobenius da matriz\n",
        "\n",
        "$$\n",
        "M=\\begin{bmatrix}\n",
        "-3 & 7 & 3 \\\\\n",
        "2 & -5 & 4 \\\\\n",
        "1 & 9 & -1\n",
        "\\end{bmatrix}\n",
        "$$\n",
        "\n",
        "pode também ser dada por\n",
        "\n",
        "$$\n",
        "||\\mathbf{M}||_F=\\sqrt{\\left(\\mbox{Tr}(M M^T\\right)}\\,.\n",
        "$$"
      ]
    },
    {
      "cell_type": "markdown",
      "id": "67343c2a",
      "metadata": {
        "id": "67343c2a"
      },
      "source": [
        "**5.** Sejam as matrizes\n",
        "$$ A =\n",
        "\\begin{bmatrix}\n",
        "1 & -2 & 3 \\\\\n",
        "4 & 5 & 6 \\\\\n",
        "7 & 8 & 9\n",
        "\\end{bmatrix}\\,,\\qquad\n",
        "B =\n",
        "\\begin{bmatrix}\n",
        "9 & 4 & 6 \\\\\n",
        "6 & 3 & 2 \\\\\n",
        "1 & 2 & 3\n",
        "\\end{bmatrix}\\,.\n",
        "$$\n",
        "\n",
        "(i) Determine $C=A^3-AB -4I$, sendo $I$ a matriz identidade $3 \\times 3$.\n",
        "\n",
        "(ii) Use a equação  $det(C-I\\lambda)=0$ para encontrar os autovalores de $C$."
      ]
    },
    {
      "cell_type": "markdown",
      "id": "b243c3c6",
      "metadata": {
        "id": "b243c3c6"
      },
      "source": [
        "**6.** Seja o sistema linear\n",
        "\n",
        "$$\n",
        "\\begin{bmatrix}\n",
        "-1 & -2 & 3 \\\\\n",
        "4 & 5 & 6 \\\\\n",
        "7 & 8 & 9\n",
        "\\end{bmatrix}\n",
        "\\begin{bmatrix}\n",
        "x  \\\\\n",
        "y  \\\\\n",
        "z\n",
        "\\end{bmatrix}\n",
        "=\n",
        "\\begin{bmatrix}\n",
        "1  \\\\\n",
        "4  \\\\\n",
        "3\\,.\n",
        "\\end{bmatrix}\n",
        "$$\n",
        "\n",
        "Resolva o sistema calculando explicitamente  a expressão:\n",
        "\n",
        "$$\n",
        "\\begin{bmatrix}\n",
        "x  \\\\\n",
        "y  \\\\\n",
        "z\n",
        "\\end{bmatrix}= \\begin{bmatrix}\n",
        "-1 & -2 & 3 \\\\\n",
        "4 & 5 & 6 \\\\\n",
        "7 & 8 & 9\n",
        "\\end{bmatrix}^{-1}\\begin{bmatrix}\n",
        "1  \\\\\n",
        "4  \\\\\n",
        "3\\,.\n",
        "\\end{bmatrix}\n",
        "$$\n",
        "\n",
        "Note que este não é o método mais eficiente para resolver um sistema linear."
      ]
    },
    {
      "cell_type": "markdown",
      "id": "dcac95b7",
      "metadata": {
        "id": "dcac95b7"
      },
      "source": [
        "**7.** Determine as normas $\\|\\mathbf{v}\\|_1$, $\\|\\mathbf{v}\\|_2$ e $\n",
        "\\|\\mathbf{v}\\|_{\\infty}$ do vetor\n",
        "\n",
        "$$\n",
        "\\mathbf{v}=( 1+2i,3-5i,2+i,2-5i,4-3i)\\,.\n",
        "$$"
      ]
    },
    {
      "cell_type": "markdown",
      "id": "445b9842",
      "metadata": {
        "id": "445b9842"
      },
      "source": [
        "**7.** Determine os autovalores e autovetores da matriz\n",
        "\n",
        "$$\n",
        "A = \\begin{bmatrix}\n",
        "4 & 1 & 2 & 0 \\\\\n",
        "1 & 3 & 0 & 1 \\\\\n",
        "2 & 0 & 2 & 3 \\\\\n",
        "0 & 1 & 3 & 4 \\\\\n",
        "\\end{bmatrix}\\,.\n",
        "$$"
      ]
    },
    {
      "cell_type": "markdown",
      "id": "2299854c",
      "metadata": {
        "id": "2299854c"
      },
      "source": [
        "**8.** Mostre que a matriz\n",
        "\n",
        "$$\n",
        "U = \\frac{1}{2} \\begin{bmatrix}\n",
        "1 & i & 1 & i \\\\\n",
        "i & 1 & -i & 1 \\\\\n",
        "1 & -i & 1 & -i \\\\\n",
        "i & 1 & -i & 1\n",
        "\\end{bmatrix}\n",
        "$$\n",
        "\n",
        "é unitária e verifique a  norma  $\\|\\mathbf{v}\\|^2 = \\mathbf{v}^{\\dagger}\\mathbf{v}$ do vetor\n",
        "\n",
        "$$\n",
        "\\mathbf{v} = \\begin{bmatrix}\n",
        "1 + i \\\\\n",
        "2 - 6i \\\\\n",
        "3 + 2i \\\\\n",
        "4 - 5i\n",
        "\\end{bmatrix}\n",
        "$$\n",
        "\n",
        "é preservada após a operação $U \\mathbf{v}$.\n"
      ]
    },
    {
      "cell_type": "markdown",
      "id": "f68aa076",
      "metadata": {
        "id": "f68aa076"
      },
      "source": [
        "**9**. Calcule os autovalores e autovetores da matriz\n",
        "\n",
        "$$\n",
        "H = \\begin{bmatrix}\n",
        "2 & 1 + i & 4 - 2i \\\\\n",
        "1 - i & 3 & 5 + i \\\\\n",
        "4 + 2i & 5 - i & 1\\,.\n",
        "\\end{bmatrix}\n",
        "$$\n",
        "\n",
        "Por que é esperado que os autovalores sejam reais?"
      ]
    },
    {
      "cell_type": "markdown",
      "id": "ab0238b2",
      "metadata": {
        "id": "ab0238b2"
      },
      "source": [
        "**10.** As matrizes de Hilbert têm a seguinte lei de formação $a_{ij}=1/(i+j-1)$ para $i=1,\\cdots,n$. Tais matrizes são muito usadas em testes de algoritmos numéricos, pelo fato de serem mal condicionadas. Construa uma função que calcula o número de condição (usando qualquer tipo de norma) de matrizes de Hilbert de ordem $3\\times 3, 4\\times 4, \\ldots, 40\\times 40$. Faça o mesmo para uma matriz de componentes aleatórias. Faça um gráfico simultâneo comparando a variação do número de condição para as duas matrizes."
      ]
    },
    {
      "cell_type": "markdown",
      "id": "93d8b11a",
      "metadata": {
        "id": "93d8b11a"
      },
      "source": [
        "**11.** Resolva o sistema linear dado por\n",
        "\n",
        "$$\n",
        "\\left\\{\n",
        "\\begin{aligned}\n",
        "2x_1 + 3x_2 - x_3 + 4x_4 + x_5 & = 7 \\\\\n",
        "-3x_1 + 5x_2 + 2x_3 - 6x_4 + 8x_5 & = -2 \\\\\n",
        "4x_1 - x_2 + 7x_3 + 3x_4 - 5x_5 & = 10 \\\\\n",
        "x_1 + 6x_2 - 3x_3 + 2x_4 + 4x_5 & = 5 \\\\\n",
        "-2x_1 + 4x_2 + 5x_3 - x_4 + 6x_5 & = 1 \\\\\n",
        "\\end{aligned}\n",
        "\\right.\n",
        "$$\n",
        "\n",
        "e verifique o resultado."
      ]
    }
  ],
  "metadata": {
    "kernelspec": {
      "display_name": "Python 3 (ipykernel)",
      "language": "python",
      "name": "python3"
    },
    "language_info": {
      "codemirror_mode": {
        "name": "ipython",
        "version": 3
      },
      "file_extension": ".py",
      "mimetype": "text/x-python",
      "name": "python",
      "nbconvert_exporter": "python",
      "pygments_lexer": "ipython3",
      "version": "3.12.4"
    },
    "colab": {
      "provenance": [],
      "toc_visible": true,
      "include_colab_link": true
    }
  },
  "nbformat": 4,
  "nbformat_minor": 5
}