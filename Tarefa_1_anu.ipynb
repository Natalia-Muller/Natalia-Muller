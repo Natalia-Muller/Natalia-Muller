{
  "nbformat": 4,
  "nbformat_minor": 0,
  "metadata": {
    "colab": {
      "provenance": [],
      "authorship_tag": "ABX9TyNcxyeL+Ceomhjnr+2h9FWk",
      "include_colab_link": true
    },
    "kernelspec": {
      "name": "python3",
      "display_name": "Python 3"
    },
    "language_info": {
      "name": "python"
    }
  },
  "cells": [
    {
      "cell_type": "markdown",
      "metadata": {
        "id": "view-in-github",
        "colab_type": "text"
      },
      "source": [
        "<a href=\"https://colab.research.google.com/github/Natalia-Muller/Natalia-Muller/blob/main/Tarefa_1_anu.ipynb\" target=\"_parent\"><img src=\"https://colab.research.google.com/assets/colab-badge.svg\" alt=\"Open In Colab\"/></a>"
      ]
    },
    {
      "cell_type": "markdown",
      "source": [
        " <center>  <font size=5> <strong>Tarefa 1 de Análise Numérica</strong> </font>\n",
        "\n",
        "Eliminação Gaussiana Simples\n",
        "\n",
        "Natália Muller\n",
        "</center>\n"
      ],
      "metadata": {
        "id": "kqcBGLHSLRny"
      }
    },
    {
      "cell_type": "markdown",
      "source": [
        "Vamos considerar o sistema linear $AX=B$, com\n",
        "\n",
        "$$\n",
        "A = \\begin{bmatrix}\n",
        "0 & 2 & 3& 5 \\\\\n",
        "4 & -5 & 6& -3 \\\\\n",
        "1 & 5 & 2 & 1\\\\\n",
        "2 & -4 & 1 & 3\n",
        "\\end{bmatrix}\\,,\n",
        "\\qquad\n",
        "B =\n",
        "\\begin{bmatrix}\n",
        "1  \\\\\n",
        "-4  \\\\\n",
        "2\\\\\n",
        "3\n",
        "\\end{bmatrix}\\,.\n",
        "$$\n"
      ],
      "metadata": {
        "id": "7WQMujevTvBO"
      }
    },
    {
      "cell_type": "markdown",
      "source": [
        "**(i)** Vamos, primeiramente, achar a forma echelon da matriz expandida, passo a passo, ou seja, definindo todas as operações a serem feitas."
      ],
      "metadata": {
        "id": "hNesRWG7T_mO"
      }
    },
    {
      "cell_type": "markdown",
      "source": [
        "M será nossa matriz expandida:"
      ],
      "metadata": {
        "id": "c_ZywIG6zFYL"
      }
    },
    {
      "cell_type": "code",
      "execution_count": 37,
      "metadata": {
        "colab": {
          "base_uri": "https://localhost:8080/"
        },
        "id": "mQ96T4uYIEWx",
        "outputId": "e7bf4c51-ad4e-4c1a-9ff6-f317a2024eaf"
      },
      "outputs": [
        {
          "output_type": "execute_result",
          "data": {
            "text/plain": [
              "array([[ 0,  2,  3,  5,  1],\n",
              "       [ 4, -5,  6, -3, -4],\n",
              "       [ 1,  5,  2,  1,  2],\n",
              "       [ 2, -4,  1,  3,  3]])"
            ]
          },
          "metadata": {},
          "execution_count": 37
        }
      ],
      "source": [
        "import numpy as np\n",
        "A = np.array([[0,2,3,5],[4,-5,6,-3],[1,5,2,1],[2,-4,1,3]])\n",
        "B = np.array([[1],[-4],[2],[3]])\n",
        "M = np.array([[0,2,3,5,1],[4,-5,6,-3,-4],[1,5,2,1,2],[2,-4,1,3,3]])\n",
        "M"
      ]
    },
    {
      "cell_type": "markdown",
      "source": [
        "Podemos trocar a primeira linha com a segunda, já que temos um zero como primeiro elemento."
      ],
      "metadata": {
        "id": "u5uZNBHZ2xHw"
      }
    },
    {
      "cell_type": "code",
      "source": [
        "E1 = ([[0,1,0,0],[1,0,0,0],[0,0,1,0],[0,0,0,1]])\n",
        "M1 = E1@M\n",
        "M1"
      ],
      "metadata": {
        "colab": {
          "base_uri": "https://localhost:8080/"
        },
        "id": "z-TUQkj614WK",
        "outputId": "6e1f8f0c-3311-4b97-cccc-3dbdda4ddd2b"
      },
      "execution_count": 8,
      "outputs": [
        {
          "output_type": "execute_result",
          "data": {
            "text/plain": [
              "array([[ 4, -5,  6, -3, -4],\n",
              "       [ 0,  2,  3,  5,  1],\n",
              "       [ 1,  5,  2,  1,  2],\n",
              "       [ 2, -4,  1,  3,  3]])"
            ]
          },
          "metadata": {},
          "execution_count": 8
        }
      ]
    },
    {
      "cell_type": "markdown",
      "source": [
        "Agora vamos multiplicar a primeira linha por -1/4 e somar com a terceira linha"
      ],
      "metadata": {
        "id": "TanevfYf7bSb"
      }
    },
    {
      "cell_type": "code",
      "source": [
        "E2 = ([[1,0,0,0],[0,1,0,0],[-1/4,0,1,0],[0,0,0,1]])\n",
        "M2 = E2@M1\n",
        "M2"
      ],
      "metadata": {
        "colab": {
          "base_uri": "https://localhost:8080/"
        },
        "id": "wQf-c5Mc3vI-",
        "outputId": "a3d7fe74-c67d-4996-f506-e36fb5ae8355"
      },
      "execution_count": 9,
      "outputs": [
        {
          "output_type": "execute_result",
          "data": {
            "text/plain": [
              "array([[ 4.  , -5.  ,  6.  , -3.  , -4.  ],\n",
              "       [ 0.  ,  2.  ,  3.  ,  5.  ,  1.  ],\n",
              "       [ 0.  ,  6.25,  0.5 ,  1.75,  3.  ],\n",
              "       [ 2.  , -4.  ,  1.  ,  3.  ,  3.  ]])"
            ]
          },
          "metadata": {},
          "execution_count": 9
        }
      ]
    },
    {
      "cell_type": "markdown",
      "source": [
        "Multiplicar a segunda linha por -6.25/2 e somar com a terceira linha"
      ],
      "metadata": {
        "id": "agdVyCt4-CET"
      }
    },
    {
      "cell_type": "code",
      "source": [
        "E3 = ([[1,0,0,0],[0,1,0,0],[0,-6.25/2,1,0],[0,0,0,1]])\n",
        "M3 = E3@M2\n",
        "M3"
      ],
      "metadata": {
        "colab": {
          "base_uri": "https://localhost:8080/"
        },
        "id": "wm9coghc8WL6",
        "outputId": "c502cf2c-4506-410e-9a61-55935d9362a8"
      },
      "execution_count": 12,
      "outputs": [
        {
          "output_type": "execute_result",
          "data": {
            "text/plain": [
              "array([[  4.   ,  -5.   ,   6.   ,  -3.   ,  -4.   ],\n",
              "       [  0.   ,   2.   ,   3.   ,   5.   ,   1.   ],\n",
              "       [  0.   ,   0.   ,  -8.875, -13.875,  -0.125],\n",
              "       [  2.   ,  -4.   ,   1.   ,   3.   ,   3.   ]])"
            ]
          },
          "metadata": {},
          "execution_count": 12
        }
      ]
    },
    {
      "cell_type": "markdown",
      "source": [
        "Multiplicar a primeira linha por -2/4 e somar à quarta linha"
      ],
      "metadata": {
        "id": "LqJKHqhN-u9S"
      }
    },
    {
      "cell_type": "code",
      "source": [
        "E4 = ([[1,0,0,0],[0,1,0,0],[0,0,1,0],[-2/4,0,0,1]])\n",
        "M4 = E4@M3\n",
        "M4"
      ],
      "metadata": {
        "colab": {
          "base_uri": "https://localhost:8080/"
        },
        "id": "cag8PlaO-RvC",
        "outputId": "b1976b81-81e4-44fb-8ebc-5d49d60ad9ba"
      },
      "execution_count": 13,
      "outputs": [
        {
          "output_type": "execute_result",
          "data": {
            "text/plain": [
              "array([[  4.   ,  -5.   ,   6.   ,  -3.   ,  -4.   ],\n",
              "       [  0.   ,   2.   ,   3.   ,   5.   ,   1.   ],\n",
              "       [  0.   ,   0.   ,  -8.875, -13.875,  -0.125],\n",
              "       [  0.   ,  -1.5  ,  -2.   ,   4.5  ,   5.   ]])"
            ]
          },
          "metadata": {},
          "execution_count": 13
        }
      ]
    },
    {
      "cell_type": "markdown",
      "source": [
        "Multiplicar a segunda linha por 1.5/2 e somar à quarta linha"
      ],
      "metadata": {
        "id": "Lq1-Zcfa_H_S"
      }
    },
    {
      "cell_type": "code",
      "source": [
        "E5 = ([[1,0,0,0],[0,1,0,0],[0,0,1,0],[0,1.5/2,0,1]])\n",
        "M5 = E5@M4\n",
        "M5"
      ],
      "metadata": {
        "colab": {
          "base_uri": "https://localhost:8080/"
        },
        "id": "HxKF__jy-6oi",
        "outputId": "d74e45c7-f313-4f52-f76f-9056a9dcb5d3"
      },
      "execution_count": 14,
      "outputs": [
        {
          "output_type": "execute_result",
          "data": {
            "text/plain": [
              "array([[  4.   ,  -5.   ,   6.   ,  -3.   ,  -4.   ],\n",
              "       [  0.   ,   2.   ,   3.   ,   5.   ,   1.   ],\n",
              "       [  0.   ,   0.   ,  -8.875, -13.875,  -0.125],\n",
              "       [  0.   ,   0.   ,   0.25 ,   8.25 ,   5.75 ]])"
            ]
          },
          "metadata": {},
          "execution_count": 14
        }
      ]
    },
    {
      "cell_type": "markdown",
      "source": [
        "Multiplicar a terceira linha por 0.25/8.875 e somar à quarta linha"
      ],
      "metadata": {
        "id": "-aBnF9PT_pKC"
      }
    },
    {
      "cell_type": "code",
      "source": [
        "E6 = ([[1,0,0,0],[0,1,0,0],[0,0,1,0],[0,0,0.25/8.875,1]])\n",
        "M6 = E6@M5\n",
        "M6"
      ],
      "metadata": {
        "colab": {
          "base_uri": "https://localhost:8080/"
        },
        "id": "4HxTybpS_3oK",
        "outputId": "779fad8d-885f-4a61-e3e0-6ea35826839d"
      },
      "execution_count": 16,
      "outputs": [
        {
          "output_type": "execute_result",
          "data": {
            "text/plain": [
              "array([[  4.        ,  -5.        ,   6.        ,  -3.        ,\n",
              "         -4.        ],\n",
              "       [  0.        ,   2.        ,   3.        ,   5.        ,\n",
              "          1.        ],\n",
              "       [  0.        ,   0.        ,  -8.875     , -13.875     ,\n",
              "         -0.125     ],\n",
              "       [  0.        ,   0.        ,   0.        ,   7.85915493,\n",
              "          5.74647887]])"
            ]
          },
          "metadata": {},
          "execution_count": 16
        }
      ]
    },
    {
      "cell_type": "markdown",
      "source": [
        "Temos que M6 é a forma echelon da matriz aumentada."
      ],
      "metadata": {
        "id": "QVMP8NzaAxWK"
      }
    },
    {
      "cell_type": "markdown",
      "source": [
        "**(ii)** Faremos as mesmas operações, porém agora com funções pré-definidas"
      ],
      "metadata": {
        "id": "Yh8ZXS1AA5ly"
      }
    },
    {
      "cell_type": "code",
      "source": [
        "M"
      ],
      "metadata": {
        "colab": {
          "base_uri": "https://localhost:8080/"
        },
        "id": "k3XtNymyBLbK",
        "outputId": "610969d5-c815-458c-a718-e1c92ccbfbbd"
      },
      "execution_count": 17,
      "outputs": [
        {
          "output_type": "execute_result",
          "data": {
            "text/plain": [
              "array([[ 0,  2,  3,  5,  1],\n",
              "       [ 4, -5,  6, -3, -4],\n",
              "       [ 1,  5,  2,  1,  2],\n",
              "       [ 2, -4,  1,  3,  3]])"
            ]
          },
          "metadata": {},
          "execution_count": 17
        }
      ]
    },
    {
      "cell_type": "markdown",
      "source": [
        "A função sum_rows soma a linha j multiplicada k vezes com a linha i. E se i=i, teremos $E_{ii}=k+1$."
      ],
      "metadata": {
        "id": "vwAZGJuOBfd6"
      }
    },
    {
      "cell_type": "code",
      "source": [
        "def sum_rows(A,k,i,j):\n",
        "    \"Add k times row j to row i\"\n",
        "    n=A.shape[0]\n",
        "    E=np.eye(n)\n",
        "    if i == j:\n",
        "        E[i,i] = k+1\n",
        "    else:\n",
        "        E[i,j] = k\n",
        "    return E@A"
      ],
      "metadata": {
        "id": "jFQ7frSFBW7a"
      },
      "execution_count": 18,
      "outputs": []
    },
    {
      "cell_type": "markdown",
      "source": [
        "A função swap_rows troca as linhas i e j de lugar"
      ],
      "metadata": {
        "id": "OFXiXur4Drli"
      }
    },
    {
      "cell_type": "code",
      "source": [
        "def swap_rows(A,i,j):\n",
        "    \"Swap rows i and j\"\n",
        "    n=A.shape[0]\n",
        "    E=np.eye(n)\n",
        "    E[i,i]=0\n",
        "    E[j,j]=0\n",
        "    E[i,j]=1\n",
        "    E[j,i]=1\n",
        "    return E@A"
      ],
      "metadata": {
        "id": "09xvB8KGDrZD"
      },
      "execution_count": 21,
      "outputs": []
    },
    {
      "cell_type": "code",
      "source": [
        "M1 = swap_rows(M,0,1)\n",
        "M1"
      ],
      "metadata": {
        "colab": {
          "base_uri": "https://localhost:8080/"
        },
        "id": "tkX3QCntCYXj",
        "outputId": "ecda4669-694d-41bb-bf2d-eb5e4fd0a605"
      },
      "execution_count": 22,
      "outputs": [
        {
          "output_type": "execute_result",
          "data": {
            "text/plain": [
              "array([[ 4., -5.,  6., -3., -4.],\n",
              "       [ 0.,  2.,  3.,  5.,  1.],\n",
              "       [ 1.,  5.,  2.,  1.,  2.],\n",
              "       [ 2., -4.,  1.,  3.,  3.]])"
            ]
          },
          "metadata": {},
          "execution_count": 22
        }
      ]
    },
    {
      "cell_type": "code",
      "source": [
        "M2 = sum_rows(M1,-1/4,2,0)\n",
        "M2"
      ],
      "metadata": {
        "colab": {
          "base_uri": "https://localhost:8080/"
        },
        "id": "MPgZzkhJDZMq",
        "outputId": "e067239d-bb86-4e23-e999-1a3b2693c500"
      },
      "execution_count": 23,
      "outputs": [
        {
          "output_type": "execute_result",
          "data": {
            "text/plain": [
              "array([[ 4.  , -5.  ,  6.  , -3.  , -4.  ],\n",
              "       [ 0.  ,  2.  ,  3.  ,  5.  ,  1.  ],\n",
              "       [ 0.  ,  6.25,  0.5 ,  1.75,  3.  ],\n",
              "       [ 2.  , -4.  ,  1.  ,  3.  ,  3.  ]])"
            ]
          },
          "metadata": {},
          "execution_count": 23
        }
      ]
    },
    {
      "cell_type": "code",
      "source": [
        "M3 = sum_rows(M2,-6.25/2,2,1)\n",
        "M3"
      ],
      "metadata": {
        "colab": {
          "base_uri": "https://localhost:8080/"
        },
        "id": "o14bqvdmFVWD",
        "outputId": "5111b2d0-44aa-47a2-f560-cd10f97730d0"
      },
      "execution_count": 24,
      "outputs": [
        {
          "output_type": "execute_result",
          "data": {
            "text/plain": [
              "array([[  4.   ,  -5.   ,   6.   ,  -3.   ,  -4.   ],\n",
              "       [  0.   ,   2.   ,   3.   ,   5.   ,   1.   ],\n",
              "       [  0.   ,   0.   ,  -8.875, -13.875,  -0.125],\n",
              "       [  2.   ,  -4.   ,   1.   ,   3.   ,   3.   ]])"
            ]
          },
          "metadata": {},
          "execution_count": 24
        }
      ]
    },
    {
      "cell_type": "code",
      "source": [
        "M4 = sum_rows(M3,-2/4,3,0)\n",
        "M4"
      ],
      "metadata": {
        "colab": {
          "base_uri": "https://localhost:8080/"
        },
        "id": "X7s0DiXKHwbO",
        "outputId": "de9e4369-1ecc-4ce2-bfd9-89059b51e783"
      },
      "execution_count": 25,
      "outputs": [
        {
          "output_type": "execute_result",
          "data": {
            "text/plain": [
              "array([[  4.   ,  -5.   ,   6.   ,  -3.   ,  -4.   ],\n",
              "       [  0.   ,   2.   ,   3.   ,   5.   ,   1.   ],\n",
              "       [  0.   ,   0.   ,  -8.875, -13.875,  -0.125],\n",
              "       [  0.   ,  -1.5  ,  -2.   ,   4.5  ,   5.   ]])"
            ]
          },
          "metadata": {},
          "execution_count": 25
        }
      ]
    },
    {
      "cell_type": "code",
      "source": [
        "M5 = sum_rows(M4,1.5/2,3,1)\n",
        "M5"
      ],
      "metadata": {
        "colab": {
          "base_uri": "https://localhost:8080/"
        },
        "id": "kW8qPIVCH_lH",
        "outputId": "1abf7642-b98f-4f84-ab48-29e1448dcac9"
      },
      "execution_count": 27,
      "outputs": [
        {
          "output_type": "execute_result",
          "data": {
            "text/plain": [
              "array([[  4.   ,  -5.   ,   6.   ,  -3.   ,  -4.   ],\n",
              "       [  0.   ,   2.   ,   3.   ,   5.   ,   1.   ],\n",
              "       [  0.   ,   0.   ,  -8.875, -13.875,  -0.125],\n",
              "       [  0.   ,   0.   ,   0.25 ,   8.25 ,   5.75 ]])"
            ]
          },
          "metadata": {},
          "execution_count": 27
        }
      ]
    },
    {
      "cell_type": "code",
      "source": [
        "M6 = sum_rows(M5,0.25/8.875,3,2)\n",
        "M6"
      ],
      "metadata": {
        "colab": {
          "base_uri": "https://localhost:8080/"
        },
        "id": "fqBN1CyeIWoB",
        "outputId": "6c3e91b3-1ebf-4736-fd6a-78cbf70b4c53"
      },
      "execution_count": 28,
      "outputs": [
        {
          "output_type": "execute_result",
          "data": {
            "text/plain": [
              "array([[  4.        ,  -5.        ,   6.        ,  -3.        ,\n",
              "         -4.        ],\n",
              "       [  0.        ,   2.        ,   3.        ,   5.        ,\n",
              "          1.        ],\n",
              "       [  0.        ,   0.        ,  -8.875     , -13.875     ,\n",
              "         -0.125     ],\n",
              "       [  0.        ,   0.        ,   0.        ,   7.85915493,\n",
              "          5.74647887]])"
            ]
          },
          "metadata": {},
          "execution_count": 28
        }
      ]
    },
    {
      "cell_type": "markdown",
      "source": [
        "**(III)** Podemos, neste momento, fazer as substituições e encontrar as soluções deste sistema"
      ],
      "metadata": {
        "id": "hdxXKY_GI2F5"
      }
    },
    {
      "cell_type": "code",
      "source": [
        "x3 = M6[3,4]/M6[3,3]\n",
        "x3"
      ],
      "metadata": {
        "colab": {
          "base_uri": "https://localhost:8080/"
        },
        "id": "ubEOXu-zJhgj",
        "outputId": "4be795d2-1e13-4452-9cea-cae5cd1d7d8b"
      },
      "execution_count": 29,
      "outputs": [
        {
          "output_type": "execute_result",
          "data": {
            "text/plain": [
              "0.7311827956989247"
            ]
          },
          "metadata": {},
          "execution_count": 29
        }
      ]
    },
    {
      "cell_type": "code",
      "source": [
        "x2 = (M6[2,4] - x3*M6[2,3])/M6[2,2]\n",
        "x2"
      ],
      "metadata": {
        "colab": {
          "base_uri": "https://localhost:8080/"
        },
        "id": "2X2DMHajJ8b7",
        "outputId": "053a0ff6-7d23-4a1f-cbfb-1313d44a1ba6"
      },
      "execution_count": 44,
      "outputs": [
        {
          "output_type": "execute_result",
          "data": {
            "text/plain": [
              "-1.129032258064516"
            ]
          },
          "metadata": {},
          "execution_count": 44
        }
      ]
    },
    {
      "cell_type": "code",
      "source": [
        "x1 = (M6[1,4] - x3*M6[1,3] - x2*M6[1,2])/M6[1,1]\n",
        "x1"
      ],
      "metadata": {
        "colab": {
          "base_uri": "https://localhost:8080/"
        },
        "id": "hKAMEu3gL0WG",
        "outputId": "9f720eb1-1c18-4b81-8bca-2c28a509ac82"
      },
      "execution_count": 45,
      "outputs": [
        {
          "output_type": "execute_result",
          "data": {
            "text/plain": [
              "0.36559139784946204"
            ]
          },
          "metadata": {},
          "execution_count": 45
        }
      ]
    },
    {
      "cell_type": "code",
      "source": [
        "x0 = (M6[0,4] - x1*M6[0,1] - x2*M6[0,2] - x3*M6[0,3])/M6[0,0]\n",
        "x0"
      ],
      "metadata": {
        "colab": {
          "base_uri": "https://localhost:8080/"
        },
        "id": "nXZ87BQyNW7Y",
        "outputId": "1689369a-0403-4a03-e7f5-92f35ba4b171"
      },
      "execution_count": 46,
      "outputs": [
        {
          "output_type": "execute_result",
          "data": {
            "text/plain": [
              "1.698924731182795"
            ]
          },
          "metadata": {},
          "execution_count": 46
        }
      ]
    },
    {
      "cell_type": "markdown",
      "source": [
        "Portanto a solução é dada por"
      ],
      "metadata": {
        "id": "s4ItbVhlPZhQ"
      }
    },
    {
      "cell_type": "code",
      "source": [
        "x = np.transpose(np.array([[x0,x1,x2,x3]]))\n",
        "x"
      ],
      "metadata": {
        "colab": {
          "base_uri": "https://localhost:8080/"
        },
        "id": "-Mj1uGngPdGY",
        "outputId": "13653f82-5fd9-4e93-dfd3-a974e8c3d2bb"
      },
      "execution_count": 47,
      "outputs": [
        {
          "output_type": "execute_result",
          "data": {
            "text/plain": [
              "array([[ 1.69892473],\n",
              "       [ 0.3655914 ],\n",
              "       [-1.12903226],\n",
              "       [ 0.7311828 ]])"
            ]
          },
          "metadata": {},
          "execution_count": 47
        }
      ]
    },
    {
      "cell_type": "markdown",
      "source": [
        "Calculando o resíduo:"
      ],
      "metadata": {
        "id": "MBOW2ETHPlwx"
      }
    },
    {
      "cell_type": "code",
      "source": [
        "A@x-B"
      ],
      "metadata": {
        "colab": {
          "base_uri": "https://localhost:8080/"
        },
        "id": "cEC5ahvWPicR",
        "outputId": "411ba54d-4b55-4a70-ccd5-009d8853b0df"
      },
      "execution_count": 48,
      "outputs": [
        {
          "output_type": "execute_result",
          "data": {
            "text/plain": [
              "array([[ 0.00000000e+00],\n",
              "       [ 0.00000000e+00],\n",
              "       [-1.77635684e-15],\n",
              "       [ 0.00000000e+00]])"
            ]
          },
          "metadata": {},
          "execution_count": 48
        }
      ]
    },
    {
      "cell_type": "markdown",
      "source": [
        "**(IV)** Por último, podemos obter a solução usando um solucionador do numpy. Aqui podemos verificar que os cálculos foram efetuados corretamente. Por mais que um resíduo ínfimo tenha surgido."
      ],
      "metadata": {
        "id": "uUeyFkqnO8V4"
      }
    },
    {
      "cell_type": "code",
      "source": [
        "x = np.linalg.solve(A,B)\n",
        "print(x)"
      ],
      "metadata": {
        "colab": {
          "base_uri": "https://localhost:8080/"
        },
        "id": "LmG-NtvkO7mB",
        "outputId": "8ccfbdc7-7665-49c4-c0fc-b635798455da"
      },
      "execution_count": 49,
      "outputs": [
        {
          "output_type": "stream",
          "name": "stdout",
          "text": [
            "[[ 1.69892473]\n",
            " [ 0.3655914 ]\n",
            " [-1.12903226]\n",
            " [ 0.7311828 ]]\n"
          ]
        }
      ]
    }
  ]
}