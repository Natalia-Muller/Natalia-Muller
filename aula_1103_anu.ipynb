{
  "nbformat": 4,
  "nbformat_minor": 0,
  "metadata": {
    "colab": {
      "provenance": [],
      "authorship_tag": "ABX9TyMmOX4RNATyyX6HiuCpTwlf",
      "include_colab_link": true
    },
    "kernelspec": {
      "name": "python3",
      "display_name": "Python 3"
    },
    "language_info": {
      "name": "python"
    }
  },
  "cells": [
    {
      "cell_type": "markdown",
      "metadata": {
        "id": "view-in-github",
        "colab_type": "text"
      },
      "source": [
        "<a href=\"https://colab.research.google.com/github/Natalia-Muller/Natalia-Muller/blob/main/aula_1103_anu.ipynb\" target=\"_parent\"><img src=\"https://colab.research.google.com/assets/colab-badge.svg\" alt=\"Open In Colab\"/></a>"
      ]
    },
    {
      "cell_type": "markdown",
      "source": [
        "Pseudocódigo:\n",
        "\n",
        "Input: A, B\n",
        "\n",
        "n <- dim_linhas(A)\n",
        "\n",
        "a<-A b<-B\n",
        "\n",
        "    for from 1 to n-1 do\n",
        "      for i from k+1 to n do\n",
        "        λ <- a_ik/a_kk\n",
        "        for j from k+1 to n do\n",
        "          a_ii <- a_ij - λa_ki\n",
        "          a_ik <- o\n",
        "          b_i <- b_i - λb_k\n",
        "        end do\n",
        "      end do\n",
        "    end do"
      ],
      "metadata": {
        "id": "sGW_na8o4O8H"
      }
    },
    {
      "cell_type": "markdown",
      "source": [
        "Algoritmo para eliminação gaussiana simples"
      ],
      "metadata": {
        "id": "F9InNYKI9vnp"
      }
    },
    {
      "cell_type": "code",
      "source": [
        "import numpy as np"
      ],
      "metadata": {
        "id": "Q5q-CWKkB97k"
      },
      "execution_count": 1,
      "outputs": []
    },
    {
      "cell_type": "code",
      "execution_count": 20,
      "metadata": {
        "id": "Vk0ulQzF4Jr9"
      },
      "outputs": [],
      "source": [
        "def gauss(a,b):\n",
        "  n = len(b)\n",
        "  for k in range(0,n): #linha pivot\n",
        "    for i in range(k+1,n): #linha a ser modificada, percorre as linhas\n",
        "      lam = a[i,k]/a[k,k]\n",
        "      a[i,k+1:n] = a[i,k+1:n] - lam*a[k,k+1:n] #Atualiza elementos da linha i\n",
        "      a[i,k] = 0\n",
        "      b[i] = b[i] - lam*b[k] #Atualiza elementos da coluna\n",
        "  return np.hstack([a,b])"
      ]
    },
    {
      "cell_type": "code",
      "source": [
        "A = np.array([[2.,4.,5],[6.,3.,1],[-2.,4.,7]])\n",
        "B = np.array([1.,2.,3.])"
      ],
      "metadata": {
        "id": "XwwVQVEZCYI8"
      },
      "execution_count": 15,
      "outputs": []
    },
    {
      "cell_type": "code",
      "source": [
        "Bv = np.reshape(B,(3,1))\n",
        "Bv"
      ],
      "metadata": {
        "colab": {
          "base_uri": "https://localhost:8080/"
        },
        "id": "JQ17HsycDRfE",
        "outputId": "e77604f5-f70f-4dc2-baba-fb12ede5c36f"
      },
      "execution_count": 16,
      "outputs": [
        {
          "output_type": "execute_result",
          "data": {
            "text/plain": [
              "array([[1.],\n",
              "       [2.],\n",
              "       [3.]])"
            ]
          },
          "metadata": {},
          "execution_count": 16
        }
      ]
    },
    {
      "cell_type": "code",
      "source": [
        "gauss(A,Bv)"
      ],
      "metadata": {
        "colab": {
          "base_uri": "https://localhost:8080/"
        },
        "id": "ca4cfdUYDe6y",
        "outputId": "458cbbad-1547-4c4b-eddd-1938099f515e"
      },
      "execution_count": 21,
      "outputs": [
        {
          "output_type": "execute_result",
          "data": {
            "text/plain": [
              "array([[  2.        ,   4.        ,   5.        ,   1.        ],\n",
              "       [  0.        ,  -9.        , -14.        ,  -1.        ],\n",
              "       [  0.        ,   0.        ,  -0.44444444,   3.11111111]])"
            ]
          },
          "metadata": {},
          "execution_count": 21
        }
      ]
    }
  ]
}